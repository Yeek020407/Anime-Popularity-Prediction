{
 "cells": [
  {
   "cell_type": "markdown",
   "metadata": {},
   "source": [
    "# Anime Popularity Prediction System"
   ]
  },
  {
   "cell_type": "code",
   "execution_count": 1,
   "metadata": {
    "id": "2VJ3EyL5aLh6"
   },
   "outputs": [],
   "source": [
    "import pandas as pd\n",
    "import seaborn as sb\n",
    "import matplotlib.pyplot as plt "
   ]
  },
  {
   "cell_type": "markdown",
   "metadata": {},
   "source": [
    "Merge anime.csv and anime_synopsis"
   ]
  },
  {
   "cell_type": "code",
   "execution_count": 2,
   "metadata": {},
   "outputs": [],
   "source": [
    "anime = pd.read_csv(\"anime.csv\")\n",
    "synopsis = pd.read_csv('anime_with_synopsis.csv')\n",
    "anime=pd.merge(anime,synopsis,on='MAL_ID')\n",
    "anime.rename(columns = {'MAL_ID':'Anime_id','Name_x':'Name', 'Score_x':'Score','Genres_x':'Genres'}, inplace = True)"
   ]
  },
  {
   "cell_type": "code",
   "execution_count": null,
   "metadata": {},
   "outputs": [],
   "source": []
  },
  {
   "cell_type": "markdown",
   "metadata": {},
   "source": [
    "Clean the unknown in the dataset"
   ]
  },
  {
   "cell_type": "code",
   "execution_count": 3,
   "metadata": {},
   "outputs": [],
   "source": [
    "anime=anime[anime[\"Studios\"].str.contains(\"Unknown\")==False]\n",
    "anime=anime[anime[\"Source\"].str.contains(\"Unknown\")==False]\n",
    "anime=anime[anime[\"Genres\"].str.contains(\"Unknown\")==False]\n",
    "anime=anime[anime[\"Premiered\"].str.contains(\"Unknown\")==False]"
   ]
  },
  {
   "cell_type": "code",
   "execution_count": null,
   "metadata": {},
   "outputs": [],
   "source": []
  },
  {
   "cell_type": "markdown",
   "metadata": {},
   "source": [
    "Find the total voters in each anime"
   ]
  },
  {
   "cell_type": "code",
   "execution_count": 4,
   "metadata": {},
   "outputs": [],
   "source": [
    "anime['Score-10'] = anime['Score-10'].str.replace('Unknown','0')\n",
    "anime['Score-9'] = anime['Score-9'].str.replace('Unknown','0')\n",
    "anime['Score-8'] = anime['Score-8'].str.replace('Unknown','0')\n",
    "anime['Score-7'] = anime['Score-7'].str.replace('Unknown','0')\n",
    "anime['Score-6'] = anime['Score-6'].str.replace('Unknown','0')\n",
    "anime['Score-5'] = anime['Score-5'].str.replace('Unknown','0')\n",
    "anime['Score-4'] = anime['Score-4'].str.replace('Unknown','0')\n",
    "anime['Score-3'] = anime['Score-3'].str.replace('Unknown','0')\n",
    "anime['Score-2'] = anime['Score-2'].str.replace('Unknown','0')\n",
    "anime['Score-1'] = anime['Score-1'].str.replace('Unknown','0')\n",
    "\n",
    "\n",
    "anime['Score-10'] = anime['Score-10'].astype(float)\n",
    "anime['Score-9'] = anime['Score-9'].astype(float)\n",
    "anime['Score-8'] = anime['Score-8'].astype(float)\n",
    "anime['Score-7'] = anime['Score-7'].astype(float)\n",
    "anime['Score-6'] = anime['Score-6'].astype(float)\n",
    "anime['Score-5'] = anime['Score-5'].astype(float)\n",
    "anime['Score-4'] = anime['Score-4'].astype(float)\n",
    "anime['Score-3'] = anime['Score-3'].astype(float)\n",
    "anime['Score-2'] = anime['Score-2'].astype(float)\n",
    "anime['Score-1'] = anime['Score-1'].astype(float)\n",
    "\n",
    "total_num = pd.DataFrame()\n",
    "total_num[\"Total Voters\"] = anime['Score-10'] + anime['Score-9']+ anime['Score-8']+ anime['Score-7']+ anime['Score-6']+ anime['Score-5']+ anime['Score-4']+ anime['Score-3']+ anime['Score-2']+ anime['Score-1']\n",
    "\n",
    "anime = pd.concat([anime, total_num], axis=1, join=\"inner\")"
   ]
  },
  {
   "cell_type": "markdown",
   "metadata": {},
   "source": [
    "Calculate the score of anime with \"Unknown\""
   ]
  },
  {
   "cell_type": "code",
   "execution_count": 5,
   "metadata": {
    "scrolled": true
   },
   "outputs": [],
   "source": [
    "anime_score = pd.DataFrame()\n",
    "anime_score= anime[anime[\"Score\"].str.contains(\"Unknown\")==True]\n",
    "anime = anime[anime[\"Score\"].str.contains(\"Unknown\")==False]\n",
    "\n",
    "anime_score['Score'] = anime_score['Score'].str.replace('Unknown','0')\n",
    "\n",
    "anime_score['Score'] = anime_score['Score'].astype(float)\n",
    "anime['Score'] = anime['Score'].astype(float)\n",
    "\n",
    "anime_score[\"Score\"] = ((anime_score['Score-10']*10) + (anime_score['Score-9']*9) + (anime_score['Score-8']*8) \n",
    "                        + (anime_score['Score-7']*7) + (anime_score['Score-6']*6) + (anime_score['Score-5']*5)\n",
    "                        +(anime_score['Score-4']*4) + (anime_score['Score-3']*3) + (anime_score['Score-2']*2)\n",
    "                        + (anime_score['Score-1']*1))/anime_score['Total Voters']\n",
    "anime_score[\"Score\"] = anime_score[\"Score\"].round(2)\n",
    "\n",
    "\n",
    "anime = anime.append(anime_score, ignore_index=True)"
   ]
  },
  {
   "cell_type": "code",
   "execution_count": null,
   "metadata": {},
   "outputs": [],
   "source": []
  },
  {
   "cell_type": "markdown",
   "metadata": {},
   "source": [
    "Delete all unnecessary data"
   ]
  },
  {
   "cell_type": "code",
   "execution_count": 6,
   "metadata": {
    "id": "tMylHODpapvz"
   },
   "outputs": [],
   "source": [
    "#drop all the score-N\n",
    "for i in range(1,11):\n",
    "  anime = anime.drop(columns = [\"Score-\"+str(i)])\n",
    "\n",
    "anime.drop(columns=['Score_y','Name_y','Genres_y','Aired','Popularity','Licensors','Dropped','Favorites','Japanese name','English name','Rating','Duration','Episodes','Ranked'],inplace=True)"
   ]
  },
  {
   "cell_type": "code",
   "execution_count": null,
   "metadata": {},
   "outputs": [],
   "source": []
  },
  {
   "cell_type": "markdown",
   "metadata": {},
   "source": [
    "---\n",
    "# Redefine popularity"
   ]
  },
  {
   "cell_type": "code",
   "execution_count": 7,
   "metadata": {},
   "outputs": [],
   "source": [
    "pop = pd.DataFrame()\n",
    "pop['Popularity'] = anime['Watching'] + anime['Completed'] + anime['On-Hold'] + anime['Plan to Watch']  #dont add dropped (later)\n",
    "\n",
    "anime = pd.concat([anime, pop], axis=1, join=\"inner\")\n",
    "anime.drop(columns=['Watching','Completed','On-Hold','Plan to Watch'],inplace=True)"
   ]
  },
  {
   "cell_type": "code",
   "execution_count": null,
   "metadata": {},
   "outputs": [],
   "source": []
  },
  {
   "cell_type": "code",
   "execution_count": 8,
   "metadata": {},
   "outputs": [],
   "source": [
    "#only consider Animes with Total Voters larger than 500\n",
    "anime = anime[(anime['Total Voters']>500)]"
   ]
  },
  {
   "cell_type": "code",
   "execution_count": 9,
   "metadata": {},
   "outputs": [
    {
     "data": {
      "text/html": [
       "<div>\n",
       "<style scoped>\n",
       "    .dataframe tbody tr th:only-of-type {\n",
       "        vertical-align: middle;\n",
       "    }\n",
       "\n",
       "    .dataframe tbody tr th {\n",
       "        vertical-align: top;\n",
       "    }\n",
       "\n",
       "    .dataframe thead th {\n",
       "        text-align: right;\n",
       "    }\n",
       "</style>\n",
       "<table border=\"1\" class=\"dataframe\">\n",
       "  <thead>\n",
       "    <tr style=\"text-align: right;\">\n",
       "      <th></th>\n",
       "      <th>Anime_id</th>\n",
       "      <th>Name</th>\n",
       "      <th>Score</th>\n",
       "      <th>Genres</th>\n",
       "      <th>Type</th>\n",
       "      <th>Premiered</th>\n",
       "      <th>Producers</th>\n",
       "      <th>Studios</th>\n",
       "      <th>Source</th>\n",
       "      <th>Members</th>\n",
       "      <th>sypnopsis</th>\n",
       "      <th>Total Voters</th>\n",
       "      <th>Popularity</th>\n",
       "    </tr>\n",
       "  </thead>\n",
       "  <tbody>\n",
       "    <tr>\n",
       "      <th>0</th>\n",
       "      <td>1</td>\n",
       "      <td>Cowboy Bebop</td>\n",
       "      <td>8.78</td>\n",
       "      <td>Action, Adventure, Comedy, Drama, Sci-Fi, Space</td>\n",
       "      <td>TV</td>\n",
       "      <td>Spring 1998</td>\n",
       "      <td>Bandai Visual</td>\n",
       "      <td>Sunrise</td>\n",
       "      <td>Original</td>\n",
       "      <td>1251960</td>\n",
       "      <td>In the year 2071, humanity has colonized sever...</td>\n",
       "      <td>641705.0</td>\n",
       "      <td>1225282</td>\n",
       "    </tr>\n",
       "    <tr>\n",
       "      <th>1</th>\n",
       "      <td>6</td>\n",
       "      <td>Trigun</td>\n",
       "      <td>8.24</td>\n",
       "      <td>Action, Sci-Fi, Adventure, Comedy, Drama, Shounen</td>\n",
       "      <td>TV</td>\n",
       "      <td>Spring 1998</td>\n",
       "      <td>Victor Entertainment</td>\n",
       "      <td>Madhouse</td>\n",
       "      <td>Manga</td>\n",
       "      <td>558913</td>\n",
       "      <td>Vash the Stampede is the man with a $$60,000,0...</td>\n",
       "      <td>286146.0</td>\n",
       "      <td>544988</td>\n",
       "    </tr>\n",
       "    <tr>\n",
       "      <th>2</th>\n",
       "      <td>7</td>\n",
       "      <td>Witch Hunter Robin</td>\n",
       "      <td>7.27</td>\n",
       "      <td>Action, Mystery, Police, Supernatural, Drama, ...</td>\n",
       "      <td>TV</td>\n",
       "      <td>Summer 2002</td>\n",
       "      <td>TV Tokyo, Bandai Visual, Dentsu, Victor Entert...</td>\n",
       "      <td>Sunrise</td>\n",
       "      <td>Original</td>\n",
       "      <td>94683</td>\n",
       "      <td>ches are individuals with special powers like ...</td>\n",
       "      <td>39094.0</td>\n",
       "      <td>89305</td>\n",
       "    </tr>\n",
       "    <tr>\n",
       "      <th>3</th>\n",
       "      <td>8</td>\n",
       "      <td>Bouken Ou Beet</td>\n",
       "      <td>6.98</td>\n",
       "      <td>Adventure, Fantasy, Shounen, Supernatural</td>\n",
       "      <td>TV</td>\n",
       "      <td>Fall 2004</td>\n",
       "      <td>TV Tokyo, Dentsu</td>\n",
       "      <td>Toei Animation</td>\n",
       "      <td>Manga</td>\n",
       "      <td>13224</td>\n",
       "      <td>It is the dark century and the people are suff...</td>\n",
       "      <td>5923.0</td>\n",
       "      <td>12116</td>\n",
       "    </tr>\n",
       "    <tr>\n",
       "      <th>4</th>\n",
       "      <td>15</td>\n",
       "      <td>Eyeshield 21</td>\n",
       "      <td>7.95</td>\n",
       "      <td>Action, Sports, Comedy, Shounen</td>\n",
       "      <td>TV</td>\n",
       "      <td>Spring 2005</td>\n",
       "      <td>TV Tokyo, Nihon Ad Systems, TV Tokyo Music, Sh...</td>\n",
       "      <td>Gallop</td>\n",
       "      <td>Manga</td>\n",
       "      <td>148259</td>\n",
       "      <td>Sena is like any other shy kid starting high s...</td>\n",
       "      <td>73924.0</td>\n",
       "      <td>136686</td>\n",
       "    </tr>\n",
       "  </tbody>\n",
       "</table>\n",
       "</div>"
      ],
      "text/plain": [
       "   Anime_id                Name  Score  \\\n",
       "0         1        Cowboy Bebop   8.78   \n",
       "1         6              Trigun   8.24   \n",
       "2         7  Witch Hunter Robin   7.27   \n",
       "3         8      Bouken Ou Beet   6.98   \n",
       "4        15        Eyeshield 21   7.95   \n",
       "\n",
       "                                              Genres Type    Premiered  \\\n",
       "0    Action, Adventure, Comedy, Drama, Sci-Fi, Space   TV  Spring 1998   \n",
       "1  Action, Sci-Fi, Adventure, Comedy, Drama, Shounen   TV  Spring 1998   \n",
       "2  Action, Mystery, Police, Supernatural, Drama, ...   TV  Summer 2002   \n",
       "3          Adventure, Fantasy, Shounen, Supernatural   TV    Fall 2004   \n",
       "4                    Action, Sports, Comedy, Shounen   TV  Spring 2005   \n",
       "\n",
       "                                           Producers         Studios  \\\n",
       "0                                      Bandai Visual         Sunrise   \n",
       "1                               Victor Entertainment        Madhouse   \n",
       "2  TV Tokyo, Bandai Visual, Dentsu, Victor Entert...         Sunrise   \n",
       "3                                   TV Tokyo, Dentsu  Toei Animation   \n",
       "4  TV Tokyo, Nihon Ad Systems, TV Tokyo Music, Sh...          Gallop   \n",
       "\n",
       "     Source  Members                                          sypnopsis  \\\n",
       "0  Original  1251960  In the year 2071, humanity has colonized sever...   \n",
       "1     Manga   558913  Vash the Stampede is the man with a $$60,000,0...   \n",
       "2  Original    94683  ches are individuals with special powers like ...   \n",
       "3     Manga    13224  It is the dark century and the people are suff...   \n",
       "4     Manga   148259  Sena is like any other shy kid starting high s...   \n",
       "\n",
       "   Total Voters  Popularity  \n",
       "0      641705.0     1225282  \n",
       "1      286146.0      544988  \n",
       "2       39094.0       89305  \n",
       "3        5923.0       12116  \n",
       "4       73924.0      136686  "
      ]
     },
     "execution_count": 9,
     "metadata": {},
     "output_type": "execute_result"
    }
   ],
   "source": [
    "anime.head()"
   ]
  },
  {
   "cell_type": "code",
   "execution_count": 10,
   "metadata": {},
   "outputs": [
    {
     "name": "stdout",
     "output_type": "stream",
     "text": [
      "<class 'pandas.core.frame.DataFrame'>\n",
      "Int64Index: 3130 entries, 0 to 3375\n",
      "Data columns (total 13 columns):\n",
      " #   Column        Non-Null Count  Dtype  \n",
      "---  ------        --------------  -----  \n",
      " 0   Anime_id      3130 non-null   int64  \n",
      " 1   Name          3130 non-null   object \n",
      " 2   Score         3130 non-null   float64\n",
      " 3   Genres        3130 non-null   object \n",
      " 4   Type          3130 non-null   object \n",
      " 5   Premiered     3130 non-null   object \n",
      " 6   Producers     3130 non-null   object \n",
      " 7   Studios       3130 non-null   object \n",
      " 8   Source        3130 non-null   object \n",
      " 9   Members       3130 non-null   int64  \n",
      " 10  sypnopsis     3130 non-null   object \n",
      " 11  Total Voters  3130 non-null   float64\n",
      " 12  Popularity    3130 non-null   int64  \n",
      "dtypes: float64(2), int64(3), object(8)\n",
      "memory usage: 342.3+ KB\n"
     ]
    }
   ],
   "source": [
    "anime.info()"
   ]
  },
  {
   "cell_type": "markdown",
   "metadata": {},
   "source": [
    "---\n",
    "# Anime with Top Popularity"
   ]
  },
  {
   "cell_type": "code",
   "execution_count": 11,
   "metadata": {},
   "outputs": [],
   "source": [
    "anime_popular = pd.DataFrame(anime[['Name', 'Popularity']])\n",
    "anime_popular = anime_popular.sort_values('Popularity', ascending=False)"
   ]
  },
  {
   "cell_type": "code",
   "execution_count": 12,
   "metadata": {
    "scrolled": true
   },
   "outputs": [
    {
     "data": {
      "text/plain": [
       "Text(0.5, 1.0, 'Popular Anime')"
      ]
     },
     "execution_count": 12,
     "metadata": {},
     "output_type": "execute_result"
    },
    {
     "data": {
      "image/png": "[encoded data removed]",
      "text/plain": [
       "<Figure size 864x288 with 1 Axes>"
      ]
     },
     "metadata": {
      "needs_background": "light"
     },
     "output_type": "display_data"
    }
   ],
   "source": [
    "plt.figure(figsize=(12,4))\n",
    "\n",
    "plt.barh(anime_popular['Name'].head(10),anime_popular['Popularity'].head(10), align='center',\n",
    "        color='skyblue')\n",
    "plt.gca().invert_yaxis()\n",
    "plt.xlabel(\"Popularity\")\n",
    "plt.title(\"Popular Anime\")"
   ]
  },
  {
   "cell_type": "code",
   "execution_count": null,
   "metadata": {
    "scrolled": true
   },
   "outputs": [],
   "source": []
  },
  {
   "cell_type": "markdown",
   "metadata": {},
   "source": [
    "---\n",
    "# Comparing the popularity of each studios\n"
   ]
  },
  {
   "cell_type": "code",
   "execution_count": 13,
   "metadata": {
    "scrolled": false
   },
   "outputs": [],
   "source": [
    "anime_top_studios = anime[['Studios','Popularity']]"
   ]
  },
  {
   "cell_type": "code",
   "execution_count": 14,
   "metadata": {},
   "outputs": [],
   "source": [
    "removal = anime_top_studios['Studios'].value_counts().reset_index()\n",
    "removal = removal[removal['Studios'] > 50]['index'].values\n",
    "removal\n",
    "\n",
    "filtered_studios = anime_top_studios[anime_top_studios['Studios'].isin(removal)]"
   ]
  },
  {
   "cell_type": "code",
   "execution_count": 15,
   "metadata": {
    "scrolled": false
   },
   "outputs": [
    {
     "data": {
      "text/plain": [
       "[(0.0, 800000.0)]"
      ]
     },
     "execution_count": 15,
     "metadata": {},
     "output_type": "execute_result"
    },
    {
     "data": {
      "image/png": "[encoded data removed]",
      "text/plain": [
       "<Figure size 1080x1080 with 1 Axes>"
      ]
     },
     "metadata": {
      "needs_background": "light"
     },
     "output_type": "display_data"
    }
   ],
   "source": [
    "f = plt.figure(figsize=(15, 15))\n",
    "a= sb.boxplot(x = 'Studios', y = 'Popularity', data = filtered_studios,order = filtered_studios.groupby('Studios')['Popularity'].median().sort_values().index)\n",
    "plt.xticks(rotation=45);\n",
    "a.set(ylim=(0,800000))"
   ]
  },
  {
   "cell_type": "code",
   "execution_count": null,
   "metadata": {},
   "outputs": [],
   "source": []
  },
  {
   "cell_type": "markdown",
   "metadata": {},
   "source": [
    "---\n",
    "# Popularity of each source of anime\n"
   ]
  },
  {
   "cell_type": "code",
   "execution_count": 16,
   "metadata": {},
   "outputs": [],
   "source": [
    "anime_source = anime[['Source','Popularity']]"
   ]
  },
  {
   "cell_type": "code",
   "execution_count": 17,
   "metadata": {
    "scrolled": false
   },
   "outputs": [
    {
     "data": {
      "text/plain": [
       "[(0.0, 400000.0)]"
      ]
     },
     "execution_count": 17,
     "metadata": {},
     "output_type": "execute_result"
    },
    {
     "data": {
      "image/png": "[encoded data removed]",
      "text/plain": [
       "<Figure size 1080x720 with 1 Axes>"
      ]
     },
     "metadata": {
      "needs_background": "light"
     },
     "output_type": "display_data"
    }
   ],
   "source": [
    "f = plt.figure(figsize=(15, 10))\n",
    "a= sb.boxplot(x = 'Source', y = 'Popularity', data = anime_source,order = anime_source.groupby('Source')['Popularity'].median().sort_values().index)\n",
    "plt.xticks(rotation=45);\n",
    "a.set(ylim=(0,400000))"
   ]
  },
  {
   "cell_type": "code",
   "execution_count": null,
   "metadata": {},
   "outputs": [],
   "source": []
  },
  {
   "cell_type": "markdown",
   "metadata": {},
   "source": [
    "---\n",
    "# The relationship between Source and Studios \n",
    "Some studios are better at certain sources and have higher popularity in that source of anime"
   ]
  },
  {
   "cell_type": "code",
   "execution_count": 18,
   "metadata": {},
   "outputs": [],
   "source": [
    "anime_heatmap = anime[['Studios','Source','Popularity']]\n",
    "anime_heatmap = anime_heatmap[anime_heatmap['Studios'].isin(removal)]"
   ]
  },
  {
   "cell_type": "code",
   "execution_count": 19,
   "metadata": {
    "scrolled": false
   },
   "outputs": [
    {
     "data": {
      "text/plain": [
       "<Figure size 720x720 with 0 Axes>"
      ]
     },
     "metadata": {},
     "output_type": "display_data"
    },
    {
     "data": {
      "image/png": "[encoded data removed]",
      "text/plain": [
       "<Figure size 1008x1224 with 2 Axes>"
      ]
     },
     "metadata": {
      "needs_background": "light"
     },
     "output_type": "display_data"
    }
   ],
   "source": [
    "f = plt.figure(figsize=(10, 10))\n",
    "heat = pd.pivot_table(\n",
    "    anime_heatmap,\n",
    "    values=\"Popularity\",\n",
    "    index=[\"Studios\"],\n",
    "    columns=[\"Source\"],\n",
    "    fill_value =0,\n",
    "    margins=False,\n",
    ")\n",
    "\n",
    "f = plt.figure(figsize=(14, 17))\n",
    "ax = sb.heatmap(heat, cmap=\"Reds\")\n",
    "plt.title('The Popularity of studios in each source', size=10, fontweight=\"bold\")\n",
    "plt.show()"
   ]
  },
  {
   "cell_type": "code",
   "execution_count": null,
   "metadata": {
    "scrolled": false
   },
   "outputs": [],
   "source": []
  },
  {
   "cell_type": "markdown",
   "metadata": {},
   "source": [
    "---\n",
    "# Overrated and Underrated\n",
    "Overrated: Animes with high score but low popularity <br>\n",
    "Underrated: Animes with high popularity but low score"
   ]
  },
  {
   "cell_type": "code",
   "execution_count": 20,
   "metadata": {},
   "outputs": [],
   "source": [
    "anime_score = anime[['Name','Score']]\n",
    "anime_score = anime_score.sort_values('Score', ascending=False)\n",
    "anime_score.reset_index(inplace=True,drop=True)\n",
    "anime_score.reset_index(inplace=True)\n",
    "anime_score.rename(columns = {'index':'index_s'}, inplace = True)\n",
    "\n",
    "\n",
    "anime_popularity = anime[['Name','Popularity']]\n",
    "anime_popularity = anime_popularity.sort_values('Popularity', ascending=False)\n",
    "anime_popularity.reset_index(inplace=True,drop=True)\n",
    "anime_popularity.reset_index(inplace=True)\n",
    "anime_popularity.rename(columns = {'index':'index_p'}, inplace = True)\n"
   ]
  },
  {
   "cell_type": "code",
   "execution_count": 21,
   "metadata": {},
   "outputs": [],
   "source": [
    "anime_comp = pd.DataFrame()\n",
    "anime_comp = anime_score.merge(anime_popularity[['index_p','Popularity', 'Name']], on = 'Name', how = 'left')"
   ]
  },
  {
   "cell_type": "code",
   "execution_count": 22,
   "metadata": {},
   "outputs": [
    {
     "data": {
      "text/html": [
       "<div>\n",
       "<style scoped>\n",
       "    .dataframe tbody tr th:only-of-type {\n",
       "        vertical-align: middle;\n",
       "    }\n",
       "\n",
       "    .dataframe tbody tr th {\n",
       "        vertical-align: top;\n",
       "    }\n",
       "\n",
       "    .dataframe thead th {\n",
       "        text-align: right;\n",
       "    }\n",
       "</style>\n",
       "<table border=\"1\" class=\"dataframe\">\n",
       "  <thead>\n",
       "    <tr style=\"text-align: right;\">\n",
       "      <th></th>\n",
       "      <th>Name</th>\n",
       "      <th>Underrated</th>\n",
       "      <th>Popularity</th>\n",
       "      <th>Score</th>\n",
       "    </tr>\n",
       "  </thead>\n",
       "  <tbody>\n",
       "    <tr>\n",
       "      <th>134</th>\n",
       "      <td>Pui Pui Molcar</td>\n",
       "      <td>2783</td>\n",
       "      <td>3310</td>\n",
       "      <td>8.33</td>\n",
       "    </tr>\n",
       "    <tr>\n",
       "      <th>396</th>\n",
       "      <td>Tentai Senshi Sunred 2nd Season</td>\n",
       "      <td>2263</td>\n",
       "      <td>6642</td>\n",
       "      <td>7.90</td>\n",
       "    </tr>\n",
       "    <tr>\n",
       "      <th>728</th>\n",
       "      <td>Hello! Lady Lynn</td>\n",
       "      <td>2216</td>\n",
       "      <td>3055</td>\n",
       "      <td>7.57</td>\n",
       "    </tr>\n",
       "    <tr>\n",
       "      <th>257</th>\n",
       "      <td>Mobile Suit Gundam: The Origin - Advent of the...</td>\n",
       "      <td>2147</td>\n",
       "      <td>10840</td>\n",
       "      <td>8.09</td>\n",
       "    </tr>\n",
       "    <tr>\n",
       "      <th>413</th>\n",
       "      <td>Igano Kabamaru</td>\n",
       "      <td>2122</td>\n",
       "      <td>8385</td>\n",
       "      <td>7.87</td>\n",
       "    </tr>\n",
       "    <tr>\n",
       "      <th>310</th>\n",
       "      <td>Hanada Shounen-shi</td>\n",
       "      <td>2082</td>\n",
       "      <td>11242</td>\n",
       "      <td>8.01</td>\n",
       "    </tr>\n",
       "    <tr>\n",
       "      <th>652</th>\n",
       "      <td>BanG Dream! Garupa☆Pico: Oomori</td>\n",
       "      <td>2065</td>\n",
       "      <td>5612</td>\n",
       "      <td>7.63</td>\n",
       "    </tr>\n",
       "    <tr>\n",
       "      <th>649</th>\n",
       "      <td>Trapp Ikka Monogatari</td>\n",
       "      <td>2056</td>\n",
       "      <td>5763</td>\n",
       "      <td>7.63</td>\n",
       "    </tr>\n",
       "    <tr>\n",
       "      <th>705</th>\n",
       "      <td>Konnichiwa Anne: Before Green Gables</td>\n",
       "      <td>2054</td>\n",
       "      <td>5137</td>\n",
       "      <td>7.59</td>\n",
       "    </tr>\n",
       "    <tr>\n",
       "      <th>802</th>\n",
       "      <td>Perrine Monogatari</td>\n",
       "      <td>2047</td>\n",
       "      <td>3947</td>\n",
       "      <td>7.52</td>\n",
       "    </tr>\n",
       "  </tbody>\n",
       "</table>\n",
       "</div>"
      ],
      "text/plain": [
       "                                                  Name  Underrated  \\\n",
       "134                                     Pui Pui Molcar        2783   \n",
       "396                    Tentai Senshi Sunred 2nd Season        2263   \n",
       "728                                   Hello! Lady Lynn        2216   \n",
       "257  Mobile Suit Gundam: The Origin - Advent of the...        2147   \n",
       "413                                     Igano Kabamaru        2122   \n",
       "310                                 Hanada Shounen-shi        2082   \n",
       "652                    BanG Dream! Garupa☆Pico: Oomori        2065   \n",
       "649                              Trapp Ikka Monogatari        2056   \n",
       "705               Konnichiwa Anne: Before Green Gables        2054   \n",
       "802                                 Perrine Monogatari        2047   \n",
       "\n",
       "     Popularity  Score  \n",
       "134        3310   8.33  \n",
       "396        6642   7.90  \n",
       "728        3055   7.57  \n",
       "257       10840   8.09  \n",
       "413        8385   7.87  \n",
       "310       11242   8.01  \n",
       "652        5612   7.63  \n",
       "649        5763   7.63  \n",
       "705        5137   7.59  \n",
       "802        3947   7.52  "
      ]
     },
     "execution_count": 22,
     "metadata": {},
     "output_type": "execute_result"
    }
   ],
   "source": [
    "underrated = pd.DataFrame()\n",
    "underrated[\"Underrated\"] = anime_comp['index_p'] - anime_comp['index_s']\n",
    "anime_underrated = pd.concat([anime_comp, underrated], axis=1, join=\"inner\")\n",
    "anime_underrated = anime_underrated[['Name','Underrated','Popularity','Score']]\n",
    "anime_underrated = anime_underrated.sort_values('Underrated', ascending=False)\n",
    "anime_underrated.head(10)"
   ]
  },
  {
   "cell_type": "code",
   "execution_count": 23,
   "metadata": {
    "scrolled": false
   },
   "outputs": [
    {
     "data": {
      "text/html": [
       "<div>\n",
       "<style scoped>\n",
       "    .dataframe tbody tr th:only-of-type {\n",
       "        vertical-align: middle;\n",
       "    }\n",
       "\n",
       "    .dataframe tbody tr th {\n",
       "        vertical-align: top;\n",
       "    }\n",
       "\n",
       "    .dataframe thead th {\n",
       "        text-align: right;\n",
       "    }\n",
       "</style>\n",
       "<table border=\"1\" class=\"dataframe\">\n",
       "  <thead>\n",
       "    <tr style=\"text-align: right;\">\n",
       "      <th></th>\n",
       "      <th>Name</th>\n",
       "      <th>Overrated</th>\n",
       "      <th>Popularity</th>\n",
       "      <th>Score</th>\n",
       "    </tr>\n",
       "  </thead>\n",
       "  <tbody>\n",
       "    <tr>\n",
       "      <th>2973</th>\n",
       "      <td>School Days</td>\n",
       "      <td>2765</td>\n",
       "      <td>498446</td>\n",
       "      <td>5.68</td>\n",
       "    </tr>\n",
       "    <tr>\n",
       "      <th>2930</th>\n",
       "      <td>Boruto: Naruto Next Generations</td>\n",
       "      <td>2649</td>\n",
       "      <td>416055</td>\n",
       "      <td>5.81</td>\n",
       "    </tr>\n",
       "    <tr>\n",
       "      <th>3068</th>\n",
       "      <td>Diabolik Lovers</td>\n",
       "      <td>2528</td>\n",
       "      <td>224406</td>\n",
       "      <td>5.30</td>\n",
       "    </tr>\n",
       "    <tr>\n",
       "      <th>2644</th>\n",
       "      <td>Tokyo Ghoul:re 2nd Season</td>\n",
       "      <td>2394</td>\n",
       "      <td>446952</td>\n",
       "      <td>6.33</td>\n",
       "    </tr>\n",
       "    <tr>\n",
       "      <th>2697</th>\n",
       "      <td>Yosuga no Sora: In Solitude, Where We Are Leas...</td>\n",
       "      <td>2351</td>\n",
       "      <td>340982</td>\n",
       "      <td>6.26</td>\n",
       "    </tr>\n",
       "    <tr>\n",
       "      <th>2718</th>\n",
       "      <td>Isekai wa Smartphone to Tomo ni.</td>\n",
       "      <td>2350</td>\n",
       "      <td>322466</td>\n",
       "      <td>6.24</td>\n",
       "    </tr>\n",
       "    <tr>\n",
       "      <th>3048</th>\n",
       "      <td>Isekai Cheat Magician</td>\n",
       "      <td>2334</td>\n",
       "      <td>165264</td>\n",
       "      <td>5.38</td>\n",
       "    </tr>\n",
       "    <tr>\n",
       "      <th>3090</th>\n",
       "      <td>Ousama Game The Animation</td>\n",
       "      <td>2331</td>\n",
       "      <td>150411</td>\n",
       "      <td>5.00</td>\n",
       "    </tr>\n",
       "    <tr>\n",
       "      <th>3041</th>\n",
       "      <td>Big Order (TV)</td>\n",
       "      <td>2308</td>\n",
       "      <td>157337</td>\n",
       "      <td>5.40</td>\n",
       "    </tr>\n",
       "    <tr>\n",
       "      <th>3014</th>\n",
       "      <td>Mayoiga</td>\n",
       "      <td>2306</td>\n",
       "      <td>166871</td>\n",
       "      <td>5.53</td>\n",
       "    </tr>\n",
       "  </tbody>\n",
       "</table>\n",
       "</div>"
      ],
      "text/plain": [
       "                                                   Name  Overrated  \\\n",
       "2973                                        School Days       2765   \n",
       "2930                    Boruto: Naruto Next Generations       2649   \n",
       "3068                                    Diabolik Lovers       2528   \n",
       "2644                          Tokyo Ghoul:re 2nd Season       2394   \n",
       "2697  Yosuga no Sora: In Solitude, Where We Are Leas...       2351   \n",
       "2718                   Isekai wa Smartphone to Tomo ni.       2350   \n",
       "3048                              Isekai Cheat Magician       2334   \n",
       "3090                          Ousama Game The Animation       2331   \n",
       "3041                                     Big Order (TV)       2308   \n",
       "3014                                            Mayoiga       2306   \n",
       "\n",
       "      Popularity  Score  \n",
       "2973      498446   5.68  \n",
       "2930      416055   5.81  \n",
       "3068      224406   5.30  \n",
       "2644      446952   6.33  \n",
       "2697      340982   6.26  \n",
       "2718      322466   6.24  \n",
       "3048      165264   5.38  \n",
       "3090      150411   5.00  \n",
       "3041      157337   5.40  \n",
       "3014      166871   5.53  "
      ]
     },
     "execution_count": 23,
     "metadata": {},
     "output_type": "execute_result"
    }
   ],
   "source": [
    "overrated = pd.DataFrame()\n",
    "overrated[\"Overrated\"] = anime_comp['index_s']- anime_comp['index_p']\n",
    "anime_overrated = pd.concat([anime_comp, overrated], axis=1, join=\"inner\")\n",
    "anime_overrated = anime_overrated[['Name','Overrated','Popularity','Score']]\n",
    "anime_overrated = anime_overrated.sort_values('Overrated', ascending=False)\n",
    "anime_overrated.head(10)\n"
   ]
  },
  {
   "cell_type": "code",
   "execution_count": null,
   "metadata": {},
   "outputs": [],
   "source": []
  },
  {
   "cell_type": "markdown",
   "metadata": {},
   "source": [
    "---\n",
    "# Relationship between premiered and popularity\n",
    "Popularity of an anime will be affected by the season of anime's premiere"
   ]
  },
  {
   "cell_type": "code",
   "execution_count": 24,
   "metadata": {},
   "outputs": [
    {
     "name": "stderr",
     "output_type": "stream",
     "text": [
      "/Users/yeeksheng/opt/anaconda3/lib/python3.9/site-packages/pandas/core/frame.py:3641: SettingWithCopyWarning: \n",
      "A value is trying to be set on a copy of a slice from a DataFrame.\n",
      "Try using .loc[row_indexer,col_indexer] = value instead\n",
      "\n",
      "See the caveats in the documentation: https://pandas.pydata.org/pandas-docs/stable/user_guide/indexing.html#returning-a-view-versus-a-copy\n",
      "  self[k1] = value[k2]\n"
     ]
    },
    {
     "data": {
      "text/html": [
       "<div>\n",
       "<style scoped>\n",
       "    .dataframe tbody tr th:only-of-type {\n",
       "        vertical-align: middle;\n",
       "    }\n",
       "\n",
       "    .dataframe tbody tr th {\n",
       "        vertical-align: top;\n",
       "    }\n",
       "\n",
       "    .dataframe thead th {\n",
       "        text-align: right;\n",
       "    }\n",
       "</style>\n",
       "<table border=\"1\" class=\"dataframe\">\n",
       "  <thead>\n",
       "    <tr style=\"text-align: right;\">\n",
       "      <th></th>\n",
       "      <th>Name</th>\n",
       "      <th>Season</th>\n",
       "      <th>Popularity</th>\n",
       "    </tr>\n",
       "  </thead>\n",
       "  <tbody>\n",
       "    <tr>\n",
       "      <th>0</th>\n",
       "      <td>Cowboy Bebop</td>\n",
       "      <td>Spring</td>\n",
       "      <td>1225282</td>\n",
       "    </tr>\n",
       "    <tr>\n",
       "      <th>1</th>\n",
       "      <td>Trigun</td>\n",
       "      <td>Spring</td>\n",
       "      <td>544988</td>\n",
       "    </tr>\n",
       "    <tr>\n",
       "      <th>2</th>\n",
       "      <td>Witch Hunter Robin</td>\n",
       "      <td>Summer</td>\n",
       "      <td>89305</td>\n",
       "    </tr>\n",
       "    <tr>\n",
       "      <th>3</th>\n",
       "      <td>Bouken Ou Beet</td>\n",
       "      <td>Fall</td>\n",
       "      <td>12116</td>\n",
       "    </tr>\n",
       "    <tr>\n",
       "      <th>4</th>\n",
       "      <td>Eyeshield 21</td>\n",
       "      <td>Spring</td>\n",
       "      <td>136686</td>\n",
       "    </tr>\n",
       "  </tbody>\n",
       "</table>\n",
       "</div>"
      ],
      "text/plain": [
       "                 Name  Season  Popularity\n",
       "0        Cowboy Bebop  Spring     1225282\n",
       "1              Trigun  Spring      544988\n",
       "2  Witch Hunter Robin  Summer       89305\n",
       "3      Bouken Ou Beet    Fall       12116\n",
       "4        Eyeshield 21  Spring      136686"
      ]
     },
     "execution_count": 24,
     "metadata": {},
     "output_type": "execute_result"
    }
   ],
   "source": [
    "anime_premiered = pd.DataFrame()\n",
    "anime_premiered = anime[['Name','Premiered','Popularity']]\n",
    "anime_premiered[['Season','Year']] = anime_premiered[\"Premiered\"].str.split(\" \", 1, expand=True)\n",
    "anime_premiered = anime_premiered[['Name','Season','Popularity']]\n",
    "anime_premiered.head()"
   ]
  },
  {
   "cell_type": "code",
   "execution_count": 25,
   "metadata": {},
   "outputs": [
    {
     "data": {
      "text/plain": [
       "[(0.0, 200000.0)]"
      ]
     },
     "execution_count": 25,
     "metadata": {},
     "output_type": "execute_result"
    },
    {
     "data": {
      "image/png": "[encoded data removed]",
      "text/plain": [
       "<Figure size 1440x1080 with 1 Axes>"
      ]
     },
     "metadata": {
      "needs_background": "light"
     },
     "output_type": "display_data"
    }
   ],
   "source": [
    "f = plt.figure(figsize=(20, 15))\n",
    "a = sb.boxplot(x = 'Season', palette = \"pastel\",y = 'Popularity',data = anime_premiered,order = anime_premiered.groupby('Season')['Popularity'].median().sort_values().index)\n",
    "plt.xticks(rotation=45);\n",
    "a.set(ylim=(0,200000))"
   ]
  },
  {
   "cell_type": "code",
   "execution_count": null,
   "metadata": {},
   "outputs": [],
   "source": []
  }
 ],
 "metadata": {
  "colab": {
   "collapsed_sections": [],
   "name": "MiniProject.ipynb",
   "provenance": []
  },
  "kernelspec": {
   "display_name": "Python 3 (ipykernel)",
   "language": "python",
   "name": "python3"
  },
  "language_info": {
   "codemirror_mode": {
    "name": "ipython",
    "version": 3
   },
   "file_extension": ".py",
   "mimetype": "text/x-python",
   "name": "python",
   "nbconvert_exporter": "python",
   "pygments_lexer": "ipython3",
   "version": "3.9.7"
  }
 },
 "nbformat": 4,
 "nbformat_minor": 1
}

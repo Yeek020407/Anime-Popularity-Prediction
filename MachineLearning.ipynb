{
  "nbformat": 4,
  "nbformat_minor": 0,
  "metadata": {
    "colab": {
      "name": "combine.ipynb",
      "provenance": [],
      "collapsed_sections": []
    },
    "kernelspec": {
      "name": "python3",
      "display_name": "Python 3"
    },
    "language_info": {
      "name": "python"
    }
  },
  "cells": [
    {
      "cell_type": "code",
      "execution_count": null,
      "metadata": {
        "id": "-LTuABWc5g2c",
        "colab": {
          "base_uri": "https://localhost:8080/"
        },
        "outputId": "38ab09f3-4bb1-4825-cbec-4f60ebd9b8a3"
      },
      "outputs": [
        {
          "output_type": "stream",
          "name": "stdout",
          "text": [
            "Drive already mounted at /content/drive; to attempt to forcibly remount, call drive.mount(\"/content/drive\", force_remount=True).\n"
          ]
        }
      ],
      "source": [
        "from google.colab import drive\n",
        "drive.mount('/content/drive')"
      ]
    },
    {
      "cell_type": "code",
      "source": [
        "import nltk\n",
        "nltk.download('stopwords')"
      ],
      "metadata": {
        "id": "G524BrMvjV9X",
        "colab": {
          "base_uri": "https://localhost:8080/"
        },
        "outputId": "2c6d3cdc-bc7b-4873-c1be-1a2fb56f4759"
      },
      "execution_count": null,
      "outputs": [
        {
          "output_type": "stream",
          "name": "stdout",
          "text": [
            "[nltk_data] Downloading package stopwords to /root/nltk_data...\n",
            "[nltk_data]   Package stopwords is already up-to-date!\n"
          ]
        },
        {
          "output_type": "execute_result",
          "data": {
            "text/plain": [
              "True"
            ]
          },
          "metadata": {},
          "execution_count": 2
        }
      ]
    },
    {
      "cell_type": "code",
      "source": [
        "nltk.download('wordnet')"
      ],
      "metadata": {
        "id": "epVuN5CmjbMg",
        "colab": {
          "base_uri": "https://localhost:8080/"
        },
        "outputId": "a71e0c1d-211c-48e1-db73-2f75e103a078"
      },
      "execution_count": null,
      "outputs": [
        {
          "output_type": "stream",
          "name": "stdout",
          "text": [
            "[nltk_data] Downloading package wordnet to /root/nltk_data...\n",
            "[nltk_data]   Package wordnet is already up-to-date!\n"
          ]
        },
        {
          "output_type": "execute_result",
          "data": {
            "text/plain": [
              "True"
            ]
          },
          "metadata": {},
          "execution_count": 3
        }
      ]
    },
    {
      "cell_type": "code",
      "source": [
        "import pandas as pd\n",
        "anime =pd.read_csv('/content/drive/MyDrive/miniproject/anime.csv')\n",
        "synopsis = pd.read_csv('/content/drive/MyDrive/miniproject/anime_with_synopsis.csv')"
      ],
      "metadata": {
        "id": "W-ZE4HIK64fy"
      },
      "execution_count": null,
      "outputs": []
    },
    {
      "cell_type": "code",
      "source": [
        "def clean(synopsis,anime):\n",
        "  anime_fulldata=pd.merge(anime,synopsis,on='MAL_ID')\n",
        "  anime_1 =anime_fulldata\n",
        "  pop = pd.DataFrame()\n",
        "  pop['Popular'] = anime_1['Watching'] + anime_1['Completed'] + anime_1['On-Hold'] + anime_1['Plan to Watch']  #dont add dropped (later)\n",
        "  anime_fulldata = pd.concat([anime_fulldata, pop], axis=1, join=\"inner\")\n",
        "  anime =anime_fulldata\n",
        "  anime_fulldata = anime_fulldata.drop(columns=['Popularity','Watching','Completed','On-Hold'])   \n",
        "  anime_fulldata.rename(columns = {'MAL_ID':'anime_id','Genres_x':'Genres'}, inplace = True)\n",
        "  anime_fulldata.rename(columns = {'Name_x':'Name'}, inplace = True)\n",
        "\n",
        "  take = ['anime_id','Name','Genres','Type','Studios','Source','sypnopsis','Popular','Premiered']\n",
        "\n",
        "  anime_fulldata = anime_fulldata[take]\n",
        "  anime_fulldata= anime_fulldata.dropna()\n",
        "  return anime_fulldata "
      ],
      "metadata": {
        "id": "vdDJpjTc6_6o"
      },
      "execution_count": null,
      "outputs": []
    },
    {
      "cell_type": "code",
      "source": [
        "def classi(anime):\n",
        "  \n",
        "  import matplotlib.pyplot as plt\n",
        "  import seaborn as sb\n",
        "\n",
        "  anime.drop(anime.loc[anime['Source']=='Unknown'].index, inplace=True)\n",
        "  anime.drop(anime.loc[anime['Studios']=='Unknown'].index, inplace=True)\n",
        "  anime.drop(anime.loc[anime['Type']=='Unknown'].index, inplace=True)\n",
        "  anime.drop(anime.loc[anime['Premiered']=='Unknown'].index, inplace=True)\n",
        "\n",
        "  anime_pop = anime[['anime_id','Name','Popular']]\n",
        "\n",
        "  q ='Popular'\n",
        "  q1 = anime_pop[q].quantile(0.25)\n",
        "  q2 = anime_pop[q].quantile(0.50)\n",
        "  q3 = anime_pop[q].quantile(0.75)\n",
        "  IQR = q3-q1\n",
        "  below = q1-1.5*IQR\n",
        "  outli = q3+1.5*IQR\n",
        "  max = anime_pop['Popular'].max()\n",
        "  min = anime_pop['Popular'].min()\n",
        "\n",
        "  hold =[]\n",
        "\n",
        "  hold.append((min-1,q1))\n",
        "  hold.append((q1,q2))\n",
        "  hold.append((q2,q3))\n",
        "  hold.append((q3,outli))\n",
        "  a = max + outli\n",
        "  hold.append((outli,a/3))\n",
        "  hold.append((a/3,2*a/3))\n",
        "  hold.append((2*a/3,max+1))\n",
        "\n",
        "  threshold={\n",
        "      str(i+1) : x for i,x in enumerate(hold)\n",
        "  }\n",
        "\n",
        "  POP ={}\n",
        "  for i,x in threshold.items():\n",
        "    a = anime_pop[ x[1] <=anime_pop[q]].count()\n",
        "    b = anime_pop[ anime_pop[q] > x[0]].count()\n",
        "    POP[i] =b['Popular'] - a['Popular']\n",
        "\n",
        "  a = anime_pop[(anime_pop[\"Popular\"] > hold[0][0]) & (anime_pop['Popular'] <= hold[0][1])]\n",
        "  b = anime_pop[(anime_pop[\"Popular\"] > hold[1][0]) & (anime_pop['Popular'] <= hold[1][1])]\n",
        "  c = anime_pop[(anime_pop[\"Popular\"] > hold[2][0]) & (anime_pop['Popular'] <= hold[2][1])]\n",
        "  d = anime_pop[(anime_pop[\"Popular\"] > hold[3][0]) & (anime_pop['Popular'] <= hold[3][1])]\n",
        "  e = anime_pop[(anime_pop[\"Popular\"] > hold[4][0]) & (anime_pop['Popular'] <= hold[4][1])]\n",
        "  f = anime_pop[(anime_pop[\"Popular\"] > hold[5][0]) & (anime_pop['Popular'] <= hold[5][1])]\n",
        "  g = anime_pop[(anime_pop[\"Popular\"] > hold[6][0]) & (anime_pop['Popular'] <= hold[6][1])]\n",
        "\n",
        "  import numpy as np\n",
        "  a['Pop_lable'] = np.where(a['Popular']!= 0 ,1,0)\n",
        "  b['Pop_lable'] = np.where(b['Popular']!= 0 ,2,0)\n",
        "  c['Pop_lable'] = np.where(c['Popular']!= 0 ,3,0)\n",
        "  d['Pop_lable'] = np.where(d['Popular']!= 0 ,4,0)\n",
        "  e['Pop_lable'] = np.where(e['Popular']!= 0 ,5,0)\n",
        "  f['Pop_lable'] = np.where(f['Popular']!= 0 ,6,0)\n",
        "  g['Pop_lable'] = np.where(g['Popular']!= 0 ,7,0)\n",
        "\n",
        "  anime_clean = pd.concat([a,b,c,d,e,f,g])\n",
        "\n",
        "  anime_fulldata=pd.merge(anime_clean,anime,on='anime_id')\n",
        "\n",
        "  take = ['anime_id','Name_x','Genres','Studios','Source','sypnopsis','Popular_x','Pop_lable','Premiered']\n",
        "\n",
        "  anime_fulldata = anime_fulldata[take]\n",
        "\n",
        "  anime_fulldata.rename(columns = {'Name_x':'Name','Popular_x':'Popular'}, inplace = True)\n",
        "\n",
        "  anime_premiered = pd.DataFrame()\n",
        "  anime_premiered = anime_fulldata[['Name','Premiered','Popular']]\n",
        "  anime_premiered[['Season','Year']] = anime_premiered[\"Premiered\"].str.split(\" \", 1, expand=True)\n",
        "  anime_premiered = anime_premiered[['Name','Season','Popular']]\n",
        "\n",
        "  anime_fulldata=pd.merge(anime_premiered,anime_fulldata,on='Name')\n",
        "  anime_fulldata.rename(columns = {'Popular_x':'Popular'}, inplace = True)\n",
        "  anime_fulldata.drop(columns = ['Popular_y'],inplace=True)\n",
        "\n",
        "  re = ['anime_id','Name','Genres','Studios','Source','Season','sypnopsis','Popular','Pop_lable']\n",
        "  anime_fulldata = anime_fulldata[re]\n",
        "  return anime_fulldata"
      ],
      "metadata": {
        "id": "bt1iMyk779Bc"
      },
      "execution_count": null,
      "outputs": []
    },
    {
      "cell_type": "code",
      "source": [
        "anime_nclean = clean(synopsis,anime)\n",
        "anime_clean = classi(anime_nclean)"
      ],
      "metadata": {
        "id": "VDob2-8w70fh",
        "colab": {
          "base_uri": "https://localhost:8080/"
        },
        "outputId": "30b3a8d2-cb4d-4e6d-c5a7-ae8fddb6d22e"
      },
      "execution_count": null,
      "outputs": [
        {
          "output_type": "stream",
          "name": "stderr",
          "text": [
            "/usr/local/lib/python3.7/dist-packages/ipykernel_launcher.py:53: SettingWithCopyWarning: \n",
            "A value is trying to be set on a copy of a slice from a DataFrame.\n",
            "Try using .loc[row_indexer,col_indexer] = value instead\n",
            "\n",
            "See the caveats in the documentation: https://pandas.pydata.org/pandas-docs/stable/user_guide/indexing.html#returning-a-view-versus-a-copy\n",
            "/usr/local/lib/python3.7/dist-packages/ipykernel_launcher.py:54: SettingWithCopyWarning: \n",
            "A value is trying to be set on a copy of a slice from a DataFrame.\n",
            "Try using .loc[row_indexer,col_indexer] = value instead\n",
            "\n",
            "See the caveats in the documentation: https://pandas.pydata.org/pandas-docs/stable/user_guide/indexing.html#returning-a-view-versus-a-copy\n",
            "/usr/local/lib/python3.7/dist-packages/ipykernel_launcher.py:55: SettingWithCopyWarning: \n",
            "A value is trying to be set on a copy of a slice from a DataFrame.\n",
            "Try using .loc[row_indexer,col_indexer] = value instead\n",
            "\n",
            "See the caveats in the documentation: https://pandas.pydata.org/pandas-docs/stable/user_guide/indexing.html#returning-a-view-versus-a-copy\n",
            "/usr/local/lib/python3.7/dist-packages/ipykernel_launcher.py:56: SettingWithCopyWarning: \n",
            "A value is trying to be set on a copy of a slice from a DataFrame.\n",
            "Try using .loc[row_indexer,col_indexer] = value instead\n",
            "\n",
            "See the caveats in the documentation: https://pandas.pydata.org/pandas-docs/stable/user_guide/indexing.html#returning-a-view-versus-a-copy\n",
            "/usr/local/lib/python3.7/dist-packages/ipykernel_launcher.py:57: SettingWithCopyWarning: \n",
            "A value is trying to be set on a copy of a slice from a DataFrame.\n",
            "Try using .loc[row_indexer,col_indexer] = value instead\n",
            "\n",
            "See the caveats in the documentation: https://pandas.pydata.org/pandas-docs/stable/user_guide/indexing.html#returning-a-view-versus-a-copy\n",
            "/usr/local/lib/python3.7/dist-packages/ipykernel_launcher.py:58: SettingWithCopyWarning: \n",
            "A value is trying to be set on a copy of a slice from a DataFrame.\n",
            "Try using .loc[row_indexer,col_indexer] = value instead\n",
            "\n",
            "See the caveats in the documentation: https://pandas.pydata.org/pandas-docs/stable/user_guide/indexing.html#returning-a-view-versus-a-copy\n",
            "/usr/local/lib/python3.7/dist-packages/ipykernel_launcher.py:59: SettingWithCopyWarning: \n",
            "A value is trying to be set on a copy of a slice from a DataFrame.\n",
            "Try using .loc[row_indexer,col_indexer] = value instead\n",
            "\n",
            "See the caveats in the documentation: https://pandas.pydata.org/pandas-docs/stable/user_guide/indexing.html#returning-a-view-versus-a-copy\n",
            "/usr/local/lib/python3.7/dist-packages/pandas/core/frame.py:3641: SettingWithCopyWarning: \n",
            "A value is trying to be set on a copy of a slice from a DataFrame.\n",
            "Try using .loc[row_indexer,col_indexer] = value instead\n",
            "\n",
            "See the caveats in the documentation: https://pandas.pydata.org/pandas-docs/stable/user_guide/indexing.html#returning-a-view-versus-a-copy\n",
            "  self[k1] = value[k2]\n"
          ]
        }
      ]
    },
    {
      "cell_type": "code",
      "source": [
        "import matplotlib.pyplot as plt\n",
        "\n",
        "def plot_history(history):\n",
        "    acc = history.history['accuracy']\n",
        "    val_acc = history.history['val_accuracy']\n",
        "    loss = history.history['loss']\n",
        "    val_loss = history.history['val_loss']\n",
        "    x = range(1, len(acc) + 1)\n",
        "\n",
        "    plt.figure(figsize=(12, 5))\n",
        "    plt.subplot(1, 2, 1)\n",
        "    plt.plot(x, acc, 'b', label='Training acc')\n",
        "    plt.plot(x, val_acc, 'r', label='Validation acc')\n",
        "    plt.title('Training and validation accuracy')\n",
        "    plt.legend()\n",
        "    plt.subplot(1, 2, 2)\n",
        "    plt.plot(x, loss, 'b', label='Training loss')\n",
        "    plt.plot(x, val_loss, 'r', label='Validation loss')\n",
        "    plt.title('Training and validation loss')\n",
        "    plt.legend()"
      ],
      "metadata": {
        "id": "AlAv9THir3kZ"
      },
      "execution_count": null,
      "outputs": []
    },
    {
      "cell_type": "code",
      "source": [
        "def encode_g(df,X_train,X_test,q):\n",
        "  from keras.utils import np_utils\n",
        "  X = df[['anime_id','Name','Genres','Studios','Source','Season','sypnopsis']]\n",
        "\n",
        "  all_genres = {}\n",
        "  for genres in X[q]:\n",
        "    for genre in genres.split(','):\n",
        "      try:\n",
        "        all_genres[genre.strip()] += 1 \n",
        "      except:\n",
        "        all_genres[genre.strip()] = 1 \n",
        "  gen=[]\n",
        "\n",
        "  for i,x in all_genres.items():\n",
        "    gen.append(i)\n",
        "\n",
        "  so_mapper={}\n",
        "  so_mapper['Unknown'] = 0  \n",
        "  so_mapper = {x:(i+1) for i,x in enumerate(gen)}\n",
        "\n",
        "  from numpy import zeros\n",
        "  # create a one hot encoding for a list\n",
        "  def one_hot_encode(genres, mapping):\n",
        "    # create empty vector\n",
        "    encoding = zeros(len(mapping)+1, dtype='uint8')\n",
        "    for genre in genres.split(','):\n",
        "      encoding[mapping[genre.strip()]] = 1\n",
        "\n",
        "    return encoding\n",
        "  \n",
        "  a_1 = X_train[q].tolist()\n",
        "  b_1 =X_test[q].tolist()\n",
        "\n",
        "  train=[]\n",
        "  for i in a_1:\n",
        "    train.append(one_hot_encode(i,so_mapper))\n",
        "  \n",
        "  test=[]\n",
        "  for i in b_1:\n",
        "    test.append(one_hot_encode(i,so_mapper))\n",
        "\n",
        "\n",
        "  from numpy import asarray\n",
        "  dummy_x_train = asarray(train, dtype='uint8')\n",
        "  dummy_x_test =asarray(test,dtype='uint8')\n",
        "\n",
        "  return dummy_x_train,dummy_x_test,so_mapper"
      ],
      "metadata": {
        "id": "aAYe6ri_cYMx"
      },
      "execution_count": null,
      "outputs": []
    },
    {
      "cell_type": "code",
      "source": [
        "def rm_stop(text):\n",
        "  from nltk.corpus import stopwords\n",
        "  stop_words = set(stopwords.words('english'))\n",
        "  words = text.split()\n",
        "  text=''\n",
        "  for word in words:\n",
        "    if word not in stop_words:\n",
        "        text += (word+\" \")\n",
        "  return text\n",
        "\n",
        "def lem(text):\n",
        "  from nltk.stem import WordNetLemmatizer\n",
        "  lemmatizer = WordNetLemmatizer()\n",
        "  words = text.split()\n",
        "  text=''\n",
        "  for word in words:\n",
        "    text+= (lemmatizer.lemmatize(word) + \" \")\n",
        "  return text \n"
      ],
      "metadata": {
        "id": "E4W0kwNuDZkS"
      },
      "execution_count": null,
      "outputs": []
    },
    {
      "cell_type": "code",
      "source": [
        "def encode_sypnopsis(X_train,X_test,num_words,maxlen):\n",
        " \n",
        "  a =X_train.copy()\n",
        "  b= X_test.copy()\n",
        "  a['sypnopsis'] = a['sypnopsis'].apply(lambda x: rm_stop(x))\n",
        "  a['sypnopsis'] = a['sypnopsis'].apply(lambda x: lem(x))\n",
        "\n",
        "\n",
        "  b['sypnopsis'] = b['sypnopsis'].apply(lambda x: rm_stop(x))\n",
        "  b['sypnopsis'] = b['sypnopsis'].apply(lambda x: lem(x))\n",
        "\n",
        "\n",
        "  from keras.preprocessing.text import Tokenizer\n",
        "\n",
        "  sentences_train = a['sypnopsis'].values\n",
        "  sentences_test = b['sypnopsis'].values\n",
        "\n",
        "  tokenizer = Tokenizer(num_words=num_words)\n",
        "\n",
        "  tokenizer.fit_on_texts(sentences_train)\n",
        "  tokenizer.fit_on_texts(sentences_test)\n",
        "\n",
        "  train = tokenizer.texts_to_sequences(sentences_train)\n",
        "  test = tokenizer.texts_to_sequences(sentences_test)\n",
        "\n",
        "  vocab_size = len(tokenizer.word_index) + 1  \n",
        "\n",
        "  from keras.preprocessing.sequence import pad_sequences\n",
        "\n",
        "  maxlen = maxlen\n",
        "  train = pad_sequences(train, padding='post', maxlen=maxlen)\n",
        "  test = pad_sequences(test, padding='post', maxlen=maxlen)\n",
        "\n",
        "  return train, test, vocab_size\n"
      ],
      "metadata": {
        "id": "VuaouS8vhwgG"
      },
      "execution_count": null,
      "outputs": []
    },
    {
      "cell_type": "code",
      "source": [
        "def encode(df,X_train,X_test,maxlen):\n",
        "\n",
        "  from keras.utils import np_utils\n",
        "  X = df\n",
        "  X['Genres'] = X['Genres'].str.replace('Sci-Fi','SciFi')\n",
        "  X_train['Genres'] = X_train['Genres'].str.replace('Sci-Fi','SciFi')\n",
        "  X_test['Genres'] = X_test['Genres'].str.replace('Sci-Fi','SciFi')\n",
        "  \n",
        "  ##encode genres\n",
        "  train_gen,test_gen,gen_mapper = encode_g(X,X_train,X_test,'Genres')\n",
        "\n",
        "  #encode season\n",
        "  train_se,test_se,se_mapper = encode_g(X,X_train,X_test,'Season')\n",
        "\n",
        "  #encode studios\n",
        "  train_st,test_st,st_mapper = encode_g(X,X_train,X_test,'Studios')\n",
        "\n",
        "  # encode source\n",
        "  train_so,test_so,so_mapper = encode_g(X,X_train,X_test,'Source')\n",
        "\n",
        "  # Tokenize sypnopsis\n",
        "  maxlen =maxlen\n",
        "  max_words =2500\n",
        "  train_sy,test_sy,vocab_size = encode_sypnopsis(X_train,X_test,max_words,maxlen)\n",
        "\n",
        "  return train_gen,test_gen,train_se,test_se,train_st,test_st,train_so,test_so,train_sy,test_sy,vocab_size,\\\n",
        "  gen_mapper,se_mapper,st_mapper,so_mapper"
      ],
      "metadata": {
        "id": "RtKsDeMb8do8"
      },
      "execution_count": null,
      "outputs": []
    },
    {
      "cell_type": "code",
      "source": [
        "from keras.models import Model\n",
        "import tensorflow as tf\n",
        "from keras.layers import Dense\n",
        "from keras.layers import add\n",
        "from keras.layers.merge import concatenate\n",
        "\n",
        "def create_model(gen_size,season_size,studio_size,source_size,maxlen,vocab_size,p):\n",
        "\n",
        "  def emb_sz_rule(n_cat): \n",
        "    return min(600, round(1.6 * n_cat**0.56)) # fast ai\n",
        "\n",
        "  Input1 = tf.keras.layers.Input(shape=(gen_size,))\n",
        "  e_1 = tf.keras.layers.Embedding(\n",
        "      gen_size, \n",
        "      emb_sz_rule(gen_size), \n",
        "      input_length=1)(Input1)\n",
        "\n",
        "  x1 = tf.keras.layers.Flatten()(e_1)\n",
        "  x1 = tf.keras.layers.Dense(5, activation='relu')(x1)\n",
        "\n",
        "  Input2 = tf.keras.layers.Input(shape=(season_size,))\n",
        "  e_2 = tf.keras.layers.Embedding(\n",
        "      season_size, \n",
        "      emb_sz_rule(season_size), \n",
        "      input_length=1)(Input2)\n",
        "  x2 = tf.keras.layers.Dropout(p)(e_2)\n",
        "  x2 = tf.keras.layers.Flatten()(e_2)\n",
        "  x2 = tf.keras.layers.Dense(5, activation='relu')(x2)\n",
        "\n",
        "  Input3 = tf.keras.layers.Input(shape=(studio_size,))\n",
        "  e_3 = tf.keras.layers.Embedding(\n",
        "      studio_size, \n",
        "      emb_sz_rule(studio_size), \n",
        "      input_length=1)(Input3)\n",
        "\n",
        "  x3 = tf.keras.layers.Flatten()(e_3)\n",
        "  x3 = tf.keras.layers.Dense(5, activation='relu')(x3)\n",
        "\n",
        "  Input4 = tf.keras.layers.Input(shape=(source_size,))\n",
        "  e_4 = tf.keras.layers.Embedding(\n",
        "      source_size, \n",
        "      emb_sz_rule(source_size), \n",
        "      input_length=1)(Input4)\n",
        "\n",
        "  x4 = tf.keras.layers.Flatten()(e_4)\n",
        "  x4 = tf.keras.layers.Dense(5, activation='relu')(x4)\n",
        "\n",
        "  # LSTM (feature extraction)\n",
        "  Input5 = tf.keras.layers.Input(shape=(maxlen,))\n",
        "  e_5 = tf.keras.layers.Embedding(\n",
        "      input_dim =vocab_size, \n",
        "      output_dim = 50, \n",
        "      input_length=maxlen)(Input5)  \n",
        "  x5 = tf.keras.layers.SpatialDropout1D(0.2)(e_5)\n",
        "  x5 = tf.keras.layers.LSTM(units=50,dropout=0.2)(x5)\n",
        "  x5 = tf.keras.layers.Dense(5, activation='relu')(x5)\n",
        "\n",
        "  # concate output\n",
        "  decoder2 = concatenate([x1,x2,x3,x4,x5])\n",
        "\n",
        "  # randomly choose number of neurons (all relu)\n",
        "  h1 = tf.keras.layers.Dense(10, activation='relu')(decoder2)\n",
        "  h1 = tf.keras.layers.BatchNormalization()(h1)\n",
        "  h1 = tf.keras.layers.Dropout(p)(h1)\n",
        "\n",
        "  h1 = tf.keras.layers.Dense(10, activation='relu')(h1)\n",
        "  h1 = tf.keras.layers.Dropout(p)(h1)\n",
        "\n",
        "  outputs = Dense(7, activation='softmax')(h1)\n",
        "\n",
        "  model = Model(inputs=[Input1,Input2,Input3,Input4,Input5], outputs=outputs)\n",
        "\n",
        "  model.compile(loss='categorical_crossentropy', optimizer='adam', metrics=['accuracy'])\n",
        "\n",
        "  return model"
      ],
      "metadata": {
        "id": "maetHtyPgtQq"
      },
      "execution_count": null,
      "outputs": []
    },
    {
      "cell_type": "code",
      "source": [
        "X = anime_clean[['anime_id','Name','Genres','Studios','Source','Season','sypnopsis']]\n",
        "Y = anime_clean[['Pop_lable']]\n",
        "\n",
        "from sklearn.model_selection import train_test_split\n",
        "X_train,X_test,y_train,y_test = train_test_split(X,Y, test_size=0.33, random_state=42)"
      ],
      "metadata": {
        "id": "dziIvAWzUshn"
      },
      "execution_count": null,
      "outputs": []
    },
    {
      "cell_type": "code",
      "source": [
        "y_train['Pop_lable'].unique()"
      ],
      "metadata": {
        "id": "14CFImlKBG4Z",
        "colab": {
          "base_uri": "https://localhost:8080/"
        },
        "outputId": "d87e0ef0-dc1d-434f-d7a7-05f45639ee5a"
      },
      "execution_count": null,
      "outputs": [
        {
          "output_type": "execute_result",
          "data": {
            "text/plain": [
              "array([2, 5, 1, 4, 3, 6, 7])"
            ]
          },
          "metadata": {},
          "execution_count": 15
        }
      ]
    },
    {
      "cell_type": "code",
      "source": [
        "a = y_train['Pop_lable'].value_counts()\n",
        "a = pd.DataFrame({'Pop_lable':(a.index), 'Count':a.values})\n",
        "a['Pop_lable'].astype(str)\n",
        "a"
      ],
      "metadata": {
        "id": "ylYgmp6A-5UP",
        "colab": {
          "base_uri": "https://localhost:8080/",
          "height": 268
        },
        "outputId": "59cf1bf1-d3cd-424b-de74-7aea48473ced"
      },
      "execution_count": null,
      "outputs": [
        {
          "output_type": "execute_result",
          "data": {
            "text/plain": [
              "   Pop_lable  Count\n",
              "0          3    633\n",
              "1          2    622\n",
              "2          1    606\n",
              "3          4    358\n",
              "4          5    232\n",
              "5          6     40\n",
              "6          7      3"
            ],
            "text/html": [
              "\n",
              "  <div id=\"df-8f5e601f-6e06-4f0d-a77b-aaebd9027222\">\n",
              "    <div class=\"colab-df-container\">\n",
              "      <div>\n",
              "<style scoped>\n",
              "    .dataframe tbody tr th:only-of-type {\n",
              "        vertical-align: middle;\n",
              "    }\n",
              "\n",
              "    .dataframe tbody tr th {\n",
              "        vertical-align: top;\n",
              "    }\n",
              "\n",
              "    .dataframe thead th {\n",
              "        text-align: right;\n",
              "    }\n",
              "</style>\n",
              "<table border=\"1\" class=\"dataframe\">\n",
              "  <thead>\n",
              "    <tr style=\"text-align: right;\">\n",
              "      <th></th>\n",
              "      <th>Pop_lable</th>\n",
              "      <th>Count</th>\n",
              "    </tr>\n",
              "  </thead>\n",
              "  <tbody>\n",
              "    <tr>\n",
              "      <th>0</th>\n",
              "      <td>3</td>\n",
              "      <td>633</td>\n",
              "    </tr>\n",
              "    <tr>\n",
              "      <th>1</th>\n",
              "      <td>2</td>\n",
              "      <td>622</td>\n",
              "    </tr>\n",
              "    <tr>\n",
              "      <th>2</th>\n",
              "      <td>1</td>\n",
              "      <td>606</td>\n",
              "    </tr>\n",
              "    <tr>\n",
              "      <th>3</th>\n",
              "      <td>4</td>\n",
              "      <td>358</td>\n",
              "    </tr>\n",
              "    <tr>\n",
              "      <th>4</th>\n",
              "      <td>5</td>\n",
              "      <td>232</td>\n",
              "    </tr>\n",
              "    <tr>\n",
              "      <th>5</th>\n",
              "      <td>6</td>\n",
              "      <td>40</td>\n",
              "    </tr>\n",
              "    <tr>\n",
              "      <th>6</th>\n",
              "      <td>7</td>\n",
              "      <td>3</td>\n",
              "    </tr>\n",
              "  </tbody>\n",
              "</table>\n",
              "</div>\n",
              "      <button class=\"colab-df-convert\" onclick=\"convertToInteractive('df-8f5e601f-6e06-4f0d-a77b-aaebd9027222')\"\n",
              "              title=\"Convert this dataframe to an interactive table.\"\n",
              "              style=\"display:none;\">\n",
              "        \n",
              "  <svg xmlns=\"http://www.w3.org/2000/svg\" height=\"24px\"viewBox=\"0 0 24 24\"\n",
              "       width=\"24px\">\n",
              "    <path d=\"M0 0h24v24H0V0z\" fill=\"none\"/>\n",
              "    <path d=\"M18.56 5.44l.94 2.06.94-2.06 2.06-.94-2.06-.94-.94-2.06-.94 2.06-2.06.94zm-11 1L8.5 8.5l.94-2.06 2.06-.94-2.06-.94L8.5 2.5l-.94 2.06-2.06.94zm10 10l.94 2.06.94-2.06 2.06-.94-2.06-.94-.94-2.06-.94 2.06-2.06.94z\"/><path d=\"M17.41 7.96l-1.37-1.37c-.4-.4-.92-.59-1.43-.59-.52 0-1.04.2-1.43.59L10.3 9.45l-7.72 7.72c-.78.78-.78 2.05 0 2.83L4 21.41c.39.39.9.59 1.41.59.51 0 1.02-.2 1.41-.59l7.78-7.78 2.81-2.81c.8-.78.8-2.07 0-2.86zM5.41 20L4 18.59l7.72-7.72 1.47 1.35L5.41 20z\"/>\n",
              "  </svg>\n",
              "      </button>\n",
              "      \n",
              "  <style>\n",
              "    .colab-df-container {\n",
              "      display:flex;\n",
              "      flex-wrap:wrap;\n",
              "      gap: 12px;\n",
              "    }\n",
              "\n",
              "    .colab-df-convert {\n",
              "      background-color: #E8F0FE;\n",
              "      border: none;\n",
              "      border-radius: 50%;\n",
              "      cursor: pointer;\n",
              "      display: none;\n",
              "      fill: #1967D2;\n",
              "      height: 32px;\n",
              "      padding: 0 0 0 0;\n",
              "      width: 32px;\n",
              "    }\n",
              "\n",
              "    .colab-df-convert:hover {\n",
              "      background-color: #E2EBFA;\n",
              "      box-shadow: 0px 1px 2px rgba(60, 64, 67, 0.3), 0px 1px 3px 1px rgba(60, 64, 67, 0.15);\n",
              "      fill: #174EA6;\n",
              "    }\n",
              "\n",
              "    [theme=dark] .colab-df-convert {\n",
              "      background-color: #3B4455;\n",
              "      fill: #D2E3FC;\n",
              "    }\n",
              "\n",
              "    [theme=dark] .colab-df-convert:hover {\n",
              "      background-color: #434B5C;\n",
              "      box-shadow: 0px 1px 3px 1px rgba(0, 0, 0, 0.15);\n",
              "      filter: drop-shadow(0px 1px 2px rgba(0, 0, 0, 0.3));\n",
              "      fill: #FFFFFF;\n",
              "    }\n",
              "  </style>\n",
              "\n",
              "      <script>\n",
              "        const buttonEl =\n",
              "          document.querySelector('#df-8f5e601f-6e06-4f0d-a77b-aaebd9027222 button.colab-df-convert');\n",
              "        buttonEl.style.display =\n",
              "          google.colab.kernel.accessAllowed ? 'block' : 'none';\n",
              "\n",
              "        async function convertToInteractive(key) {\n",
              "          const element = document.querySelector('#df-8f5e601f-6e06-4f0d-a77b-aaebd9027222');\n",
              "          const dataTable =\n",
              "            await google.colab.kernel.invokeFunction('convertToInteractive',\n",
              "                                                     [key], {});\n",
              "          if (!dataTable) return;\n",
              "\n",
              "          const docLinkHtml = 'Like what you see? Visit the ' +\n",
              "            '<a target=\"_blank\" href=https://colab.research.google.com/notebooks/data_table.ipynb>data table notebook</a>'\n",
              "            + ' to learn more about interactive tables.';\n",
              "          element.innerHTML = '';\n",
              "          dataTable['output_type'] = 'display_data';\n",
              "          await google.colab.output.renderOutput(dataTable, element);\n",
              "          const docLink = document.createElement('div');\n",
              "          docLink.innerHTML = docLinkHtml;\n",
              "          element.appendChild(docLink);\n",
              "        }\n",
              "      </script>\n",
              "    </div>\n",
              "  </div>\n",
              "  "
            ]
          },
          "metadata": {},
          "execution_count": 16
        }
      ]
    },
    {
      "cell_type": "code",
      "source": [
        "import matplotlib.pyplot as plt\n",
        "import seaborn as sb\n",
        "f = plt.figure(figsize=(20, 10))\n",
        "ax = sb.barplot(x=\"Pop_lable\", y=\"Count\", data=a)\n",
        "ax.set_ylabel(\"Count(train_balance)\", fontsize = 20)\n",
        "ax.set_xlabel(\"Pop_lable\", fontsize = 20)"
      ],
      "metadata": {
        "id": "PV8Q6050hhxc",
        "colab": {
          "base_uri": "https://localhost:8080/",
          "height": 634
        },
        "outputId": "7355e8d9-3eee-4e51-cc44-c83168091bd8"
      },
      "execution_count": null,
      "outputs": [
        {
          "output_type": "execute_result",
          "data": {
            "text/plain": [
              "Text(0.5, 0, 'Pop_lable')"
            ]
          },
          "metadata": {},
          "execution_count": 17
        },
        {
          "output_type": "display_data",
          "data": {
            "text/plain": [
              "<Figure size 1440x720 with 1 Axes>"
            ],
            "image/png": "[encoded data removed]"
          },
          "metadata": {
            "needs_background": "light"
          }
        }
      ]
    },
    {
      "cell_type": "code",
      "source": [
        "y_u = Y['Pop_lable'].unique().tolist()\n",
        "Y_mapper = {x:i for i,x in enumerate(y_u)}\n",
        "\n",
        "import numpy as np\n",
        "from keras.utils import np_utils\n",
        "y_train['Pop_lable'] =y_train['Pop_lable'].map(Y_mapper)\n",
        "y_test['Pop_lable'] =y_test['Pop_lable'].map(Y_mapper)\n",
        "\n",
        "dummy_y_train = np_utils.to_categorical(y_train)\n",
        "dummy_y_test = np_utils.to_categorical(y_test)"
      ],
      "metadata": {
        "id": "RFL4RdOqU6E1"
      },
      "execution_count": null,
      "outputs": []
    },
    {
      "cell_type": "code",
      "source": [
        "max_len =100\n",
        "train_gen,test_gen,train_se,test_se,train_st,test_st,train_so,test_so,train_sy,test_sy,vocab_size,gen_mapper,se_mapper,st_mapper,so_mapper= encode(anime_clean,X_train,X_test,max_len)"
      ],
      "metadata": {
        "id": "GAfENvFudjqV"
      },
      "execution_count": null,
      "outputs": []
    },
    {
      "cell_type": "code",
      "source": [
        "gen_size = train_gen.shape[1]\n",
        "season_size = train_se.shape[1]\n",
        "studio_size = train_st.shape[1]\n",
        "source_size = train_so.shape[1]\n",
        "maxlen=max_len\n",
        "p=0.2\n",
        "\n",
        "model = create_model(gen_size,season_size,studio_size,source_size,maxlen,vocab_size,p)"
      ],
      "metadata": {
        "id": "M7BE6y5_owpD"
      },
      "execution_count": null,
      "outputs": []
    },
    {
      "cell_type": "code",
      "source": [
        "from IPython.display import SVG\n",
        "from keras.utils.vis_utils import model_to_dot\n",
        "\n",
        "SVG(model_to_dot(model, show_shapes= False, show_layer_names=True, dpi=60).create(prog='dot',format='svg'))"
      ],
      "metadata": {
        "id": "HDeHCWd032PC",
        "colab": {
          "base_uri": "https://localhost:8080/",
          "height": 964
        },
        "outputId": "57fc64ac-bacb-4768-b655-9dd6be1cbb86"
      },
      "execution_count": null,
      "outputs": [
        {
          "output_type": "execute_result",
          "data": {
            "text/plain": [
              "<IPython.core.display.SVG object>"
            ],
            "image/svg+xml": "<svg height=\"707pt\" viewBox=\"0.00 0.00 1028.50 848.00\" width=\"857pt\" xmlns=\"http://www.w3.org/2000/svg\" xmlns:xlink=\"http://www.w3.org/1999/xlink\">\n<g class=\"graph\" id=\"graph0\" transform=\"scale(.8333 .8333) rotate(0) translate(4 844)\">\n<title>G</title>\n<polygon fill=\"#ffffff\" points=\"-4,4 -4,-844 1024.5,-844 1024.5,4 -4,4\" stroke=\"transparent\"/>\n<!-- 139938451114704 -->\n<g class=\"node\" id=\"node1\">\n<title>139938451114704</title>\n<polygon fill=\"none\" points=\"50.5,-803.5 50.5,-839.5 192.5,-839.5 192.5,-803.5 50.5,-803.5\" stroke=\"#000000\"/>\n<text fill=\"#000000\" font-family=\"Times,serif\" font-size=\"14.00\" text-anchor=\"middle\" x=\"81.5\" y=\"-817.8\">input_5</text>\n<polyline fill=\"none\" points=\"112.5,-803.5 112.5,-839.5 \" stroke=\"#000000\"/>\n<text fill=\"#000000\" font-family=\"Times,serif\" font-size=\"14.00\" text-anchor=\"middle\" x=\"152.5\" y=\"-817.8\">InputLayer</text>\n</g>\n<!-- 139938447311696 -->\n<g class=\"node\" id=\"node6\">\n<title>139938447311696</title>\n<polygon fill=\"none\" points=\"31.5,-730.5 31.5,-766.5 211.5,-766.5 211.5,-730.5 31.5,-730.5\" stroke=\"#000000\"/>\n<text fill=\"#000000\" font-family=\"Times,serif\" font-size=\"14.00\" text-anchor=\"middle\" x=\"79.5\" y=\"-744.8\">embedding_4</text>\n<polyline fill=\"none\" points=\"127.5,-730.5 127.5,-766.5 \" stroke=\"#000000\"/>\n<text fill=\"#000000\" font-family=\"Times,serif\" font-size=\"14.00\" text-anchor=\"middle\" x=\"169.5\" y=\"-744.8\">Embedding</text>\n</g>\n<!-- 139938451114704&#45;&gt;139938447311696 -->\n<g class=\"edge\" id=\"edge1\">\n<title>139938451114704-&gt;139938447311696</title>\n<path d=\"M121.5,-803.4551C121.5,-795.3828 121.5,-785.6764 121.5,-776.6817\" fill=\"none\" stroke=\"#000000\"/>\n<polygon fill=\"#000000\" points=\"125.0001,-776.5903 121.5,-766.5904 118.0001,-776.5904 125.0001,-776.5903\" stroke=\"#000000\"/>\n</g>\n<!-- 139938446944464 -->\n<g class=\"node\" id=\"node2\">\n<title>139938446944464</title>\n<polygon fill=\"none\" points=\"272.5,-730.5 272.5,-766.5 414.5,-766.5 414.5,-730.5 272.5,-730.5\" stroke=\"#000000\"/>\n<text fill=\"#000000\" font-family=\"Times,serif\" font-size=\"14.00\" text-anchor=\"middle\" x=\"303.5\" y=\"-744.8\">input_1</text>\n<polyline fill=\"none\" points=\"334.5,-730.5 334.5,-766.5 \" stroke=\"#000000\"/>\n<text fill=\"#000000\" font-family=\"Times,serif\" font-size=\"14.00\" text-anchor=\"middle\" x=\"374.5\" y=\"-744.8\">InputLayer</text>\n</g>\n<!-- 139938446997776 -->\n<g class=\"node\" id=\"node7\">\n<title>139938446997776</title>\n<polygon fill=\"none\" points=\"261,-657.5 261,-693.5 426,-693.5 426,-657.5 261,-657.5\" stroke=\"#000000\"/>\n<text fill=\"#000000\" font-family=\"Times,serif\" font-size=\"14.00\" text-anchor=\"middle\" x=\"301.5\" y=\"-671.8\">embedding</text>\n<polyline fill=\"none\" points=\"342,-657.5 342,-693.5 \" stroke=\"#000000\"/>\n<text fill=\"#000000\" font-family=\"Times,serif\" font-size=\"14.00\" text-anchor=\"middle\" x=\"384\" y=\"-671.8\">Embedding</text>\n</g>\n<!-- 139938446944464&#45;&gt;139938446997776 -->\n<g class=\"edge\" id=\"edge2\">\n<title>139938446944464-&gt;139938446997776</title>\n<path d=\"M343.5,-730.4551C343.5,-722.3828 343.5,-712.6764 343.5,-703.6817\" fill=\"none\" stroke=\"#000000\"/>\n<polygon fill=\"#000000\" points=\"347.0001,-703.5903 343.5,-693.5904 340.0001,-703.5904 347.0001,-703.5903\" stroke=\"#000000\"/>\n</g>\n<!-- 139938444463184 -->\n<g class=\"node\" id=\"node3\">\n<title>139938444463184</title>\n<polygon fill=\"none\" points=\"463.5,-730.5 463.5,-766.5 605.5,-766.5 605.5,-730.5 463.5,-730.5\" stroke=\"#000000\"/>\n<text fill=\"#000000\" font-family=\"Times,serif\" font-size=\"14.00\" text-anchor=\"middle\" x=\"494.5\" y=\"-744.8\">input_2</text>\n<polyline fill=\"none\" points=\"525.5,-730.5 525.5,-766.5 \" stroke=\"#000000\"/>\n<text fill=\"#000000\" font-family=\"Times,serif\" font-size=\"14.00\" text-anchor=\"middle\" x=\"565.5\" y=\"-744.8\">InputLayer</text>\n</g>\n<!-- 139938447132752 -->\n<g class=\"node\" id=\"node8\">\n<title>139938447132752</title>\n<polygon fill=\"none\" points=\"444.5,-657.5 444.5,-693.5 624.5,-693.5 624.5,-657.5 444.5,-657.5\" stroke=\"#000000\"/>\n<text fill=\"#000000\" font-family=\"Times,serif\" font-size=\"14.00\" text-anchor=\"middle\" x=\"492.5\" y=\"-671.8\">embedding_1</text>\n<polyline fill=\"none\" points=\"540.5,-657.5 540.5,-693.5 \" stroke=\"#000000\"/>\n<text fill=\"#000000\" font-family=\"Times,serif\" font-size=\"14.00\" text-anchor=\"middle\" x=\"582.5\" y=\"-671.8\">Embedding</text>\n</g>\n<!-- 139938444463184&#45;&gt;139938447132752 -->\n<g class=\"edge\" id=\"edge3\">\n<title>139938444463184-&gt;139938447132752</title>\n<path d=\"M534.5,-730.4551C534.5,-722.3828 534.5,-712.6764 534.5,-703.6817\" fill=\"none\" stroke=\"#000000\"/>\n<polygon fill=\"#000000\" points=\"538.0001,-703.5903 534.5,-693.5904 531.0001,-703.5904 538.0001,-703.5903\" stroke=\"#000000\"/>\n</g>\n<!-- 139938454128272 -->\n<g class=\"node\" id=\"node4\">\n<title>139938454128272</title>\n<polygon fill=\"none\" points=\"661.5,-730.5 661.5,-766.5 803.5,-766.5 803.5,-730.5 661.5,-730.5\" stroke=\"#000000\"/>\n<text fill=\"#000000\" font-family=\"Times,serif\" font-size=\"14.00\" text-anchor=\"middle\" x=\"692.5\" y=\"-744.8\">input_3</text>\n<polyline fill=\"none\" points=\"723.5,-730.5 723.5,-766.5 \" stroke=\"#000000\"/>\n<text fill=\"#000000\" font-family=\"Times,serif\" font-size=\"14.00\" text-anchor=\"middle\" x=\"763.5\" y=\"-744.8\">InputLayer</text>\n</g>\n<!-- 139938451140752 -->\n<g class=\"node\" id=\"node9\">\n<title>139938451140752</title>\n<polygon fill=\"none\" points=\"642.5,-657.5 642.5,-693.5 822.5,-693.5 822.5,-657.5 642.5,-657.5\" stroke=\"#000000\"/>\n<text fill=\"#000000\" font-family=\"Times,serif\" font-size=\"14.00\" text-anchor=\"middle\" x=\"690.5\" y=\"-671.8\">embedding_2</text>\n<polyline fill=\"none\" points=\"738.5,-657.5 738.5,-693.5 \" stroke=\"#000000\"/>\n<text fill=\"#000000\" font-family=\"Times,serif\" font-size=\"14.00\" text-anchor=\"middle\" x=\"780.5\" y=\"-671.8\">Embedding</text>\n</g>\n<!-- 139938454128272&#45;&gt;139938451140752 -->\n<g class=\"edge\" id=\"edge4\">\n<title>139938454128272-&gt;139938451140752</title>\n<path d=\"M732.5,-730.4551C732.5,-722.3828 732.5,-712.6764 732.5,-703.6817\" fill=\"none\" stroke=\"#000000\"/>\n<polygon fill=\"#000000\" points=\"736.0001,-703.5903 732.5,-693.5904 729.0001,-703.5904 736.0001,-703.5903\" stroke=\"#000000\"/>\n</g>\n<!-- 139938451150480 -->\n<g class=\"node\" id=\"node5\">\n<title>139938451150480</title>\n<polygon fill=\"none\" points=\"859.5,-730.5 859.5,-766.5 1001.5,-766.5 1001.5,-730.5 859.5,-730.5\" stroke=\"#000000\"/>\n<text fill=\"#000000\" font-family=\"Times,serif\" font-size=\"14.00\" text-anchor=\"middle\" x=\"890.5\" y=\"-744.8\">input_4</text>\n<polyline fill=\"none\" points=\"921.5,-730.5 921.5,-766.5 \" stroke=\"#000000\"/>\n<text fill=\"#000000\" font-family=\"Times,serif\" font-size=\"14.00\" text-anchor=\"middle\" x=\"961.5\" y=\"-744.8\">InputLayer</text>\n</g>\n<!-- 139938451180176 -->\n<g class=\"node\" id=\"node10\">\n<title>139938451180176</title>\n<polygon fill=\"none\" points=\"840.5,-657.5 840.5,-693.5 1020.5,-693.5 1020.5,-657.5 840.5,-657.5\" stroke=\"#000000\"/>\n<text fill=\"#000000\" font-family=\"Times,serif\" font-size=\"14.00\" text-anchor=\"middle\" x=\"888.5\" y=\"-671.8\">embedding_3</text>\n<polyline fill=\"none\" points=\"936.5,-657.5 936.5,-693.5 \" stroke=\"#000000\"/>\n<text fill=\"#000000\" font-family=\"Times,serif\" font-size=\"14.00\" text-anchor=\"middle\" x=\"978.5\" y=\"-671.8\">Embedding</text>\n</g>\n<!-- 139938451150480&#45;&gt;139938451180176 -->\n<g class=\"edge\" id=\"edge5\">\n<title>139938451150480-&gt;139938451180176</title>\n<path d=\"M930.5,-730.4551C930.5,-722.3828 930.5,-712.6764 930.5,-703.6817\" fill=\"none\" stroke=\"#000000\"/>\n<polygon fill=\"#000000\" points=\"934.0001,-703.5903 930.5,-693.5904 927.0001,-703.5904 934.0001,-703.5903\" stroke=\"#000000\"/>\n</g>\n<!-- 139938444462032 -->\n<g class=\"node\" id=\"node11\">\n<title>139938444462032</title>\n<polygon fill=\"none\" points=\"0,-657.5 0,-693.5 243,-693.5 243,-657.5 0,-657.5\" stroke=\"#000000\"/>\n<text fill=\"#000000\" font-family=\"Times,serif\" font-size=\"14.00\" text-anchor=\"middle\" x=\"60.5\" y=\"-671.8\">spatial_dropout1d</text>\n<polyline fill=\"none\" points=\"121,-657.5 121,-693.5 \" stroke=\"#000000\"/>\n<text fill=\"#000000\" font-family=\"Times,serif\" font-size=\"14.00\" text-anchor=\"middle\" x=\"182\" y=\"-671.8\">SpatialDropout1D</text>\n</g>\n<!-- 139938447311696&#45;&gt;139938444462032 -->\n<g class=\"edge\" id=\"edge6\">\n<title>139938447311696-&gt;139938444462032</title>\n<path d=\"M121.5,-730.4551C121.5,-722.3828 121.5,-712.6764 121.5,-703.6817\" fill=\"none\" stroke=\"#000000\"/>\n<polygon fill=\"#000000\" points=\"125.0001,-703.5903 121.5,-693.5904 118.0001,-703.5904 125.0001,-703.5903\" stroke=\"#000000\"/>\n</g>\n<!-- 139938446998992 -->\n<g class=\"node\" id=\"node12\">\n<title>139938446998992</title>\n<polygon fill=\"none\" points=\"302.5,-584.5 302.5,-620.5 410.5,-620.5 410.5,-584.5 302.5,-584.5\" stroke=\"#000000\"/>\n<text fill=\"#000000\" font-family=\"Times,serif\" font-size=\"14.00\" text-anchor=\"middle\" x=\"328.5\" y=\"-598.8\">flatten</text>\n<polyline fill=\"none\" points=\"354.5,-584.5 354.5,-620.5 \" stroke=\"#000000\"/>\n<text fill=\"#000000\" font-family=\"Times,serif\" font-size=\"14.00\" text-anchor=\"middle\" x=\"382.5\" y=\"-598.8\">Flatten</text>\n</g>\n<!-- 139938446997776&#45;&gt;139938446998992 -->\n<g class=\"edge\" id=\"edge7\">\n<title>139938446997776-&gt;139938446998992</title>\n<path d=\"M346.7135,-657.4551C348.151,-649.3828 349.8795,-639.6764 351.4813,-630.6817\" fill=\"none\" stroke=\"#000000\"/>\n<polygon fill=\"#000000\" points=\"354.9709,-631.0491 353.2784,-620.5904 348.0793,-629.8218 354.9709,-631.0491\" stroke=\"#000000\"/>\n</g>\n<!-- 139938446999312 -->\n<g class=\"node\" id=\"node13\">\n<title>139938446999312</title>\n<polygon fill=\"none\" points=\"473,-584.5 473,-620.5 596,-620.5 596,-584.5 473,-584.5\" stroke=\"#000000\"/>\n<text fill=\"#000000\" font-family=\"Times,serif\" font-size=\"14.00\" text-anchor=\"middle\" x=\"506.5\" y=\"-598.8\">flatten_1</text>\n<polyline fill=\"none\" points=\"540,-584.5 540,-620.5 \" stroke=\"#000000\"/>\n<text fill=\"#000000\" font-family=\"Times,serif\" font-size=\"14.00\" text-anchor=\"middle\" x=\"568\" y=\"-598.8\">Flatten</text>\n</g>\n<!-- 139938447132752&#45;&gt;139938446999312 -->\n<g class=\"edge\" id=\"edge8\">\n<title>139938447132752-&gt;139938446999312</title>\n<path d=\"M534.5,-657.4551C534.5,-649.3828 534.5,-639.6764 534.5,-630.6817\" fill=\"none\" stroke=\"#000000\"/>\n<polygon fill=\"#000000\" points=\"538.0001,-630.5903 534.5,-620.5904 531.0001,-630.5904 538.0001,-630.5903\" stroke=\"#000000\"/>\n</g>\n<!-- 139938451143952 -->\n<g class=\"node\" id=\"node14\">\n<title>139938451143952</title>\n<polygon fill=\"none\" points=\"642,-584.5 642,-620.5 765,-620.5 765,-584.5 642,-584.5\" stroke=\"#000000\"/>\n<text fill=\"#000000\" font-family=\"Times,serif\" font-size=\"14.00\" text-anchor=\"middle\" x=\"675.5\" y=\"-598.8\">flatten_2</text>\n<polyline fill=\"none\" points=\"709,-584.5 709,-620.5 \" stroke=\"#000000\"/>\n<text fill=\"#000000\" font-family=\"Times,serif\" font-size=\"14.00\" text-anchor=\"middle\" x=\"737\" y=\"-598.8\">Flatten</text>\n</g>\n<!-- 139938451140752&#45;&gt;139938451143952 -->\n<g class=\"edge\" id=\"edge9\">\n<title>139938451140752-&gt;139938451143952</title>\n<path d=\"M725.3315,-657.4551C722.055,-649.2074 718.1007,-639.2536 714.4629,-630.0962\" fill=\"none\" stroke=\"#000000\"/>\n<polygon fill=\"#000000\" points=\"717.6313,-628.5917 710.6866,-620.5904 711.1259,-631.1761 717.6313,-628.5917\" stroke=\"#000000\"/>\n</g>\n<!-- 139938451214736 -->\n<g class=\"node\" id=\"node15\">\n<title>139938451214736</title>\n<polygon fill=\"none\" points=\"826,-584.5 826,-620.5 949,-620.5 949,-584.5 826,-584.5\" stroke=\"#000000\"/>\n<text fill=\"#000000\" font-family=\"Times,serif\" font-size=\"14.00\" text-anchor=\"middle\" x=\"859.5\" y=\"-598.8\">flatten_3</text>\n<polyline fill=\"none\" points=\"893,-584.5 893,-620.5 \" stroke=\"#000000\"/>\n<text fill=\"#000000\" font-family=\"Times,serif\" font-size=\"14.00\" text-anchor=\"middle\" x=\"921\" y=\"-598.8\">Flatten</text>\n</g>\n<!-- 139938451180176&#45;&gt;139938451214736 -->\n<g class=\"edge\" id=\"edge10\">\n<title>139938451180176-&gt;139938451214736</title>\n<path d=\"M919.8708,-657.4551C914.8575,-648.9441 908.7741,-638.6165 903.2403,-629.2219\" fill=\"none\" stroke=\"#000000\"/>\n<polygon fill=\"#000000\" points=\"906.2471,-627.4303 898.156,-620.5904 900.2157,-630.9831 906.2471,-627.4303\" stroke=\"#000000\"/>\n</g>\n<!-- 139938446998288 -->\n<g class=\"node\" id=\"node16\">\n<title>139938446998288</title>\n<polygon fill=\"none\" points=\"137,-584.5 137,-620.5 234,-620.5 234,-584.5 137,-584.5\" stroke=\"#000000\"/>\n<text fill=\"#000000\" font-family=\"Times,serif\" font-size=\"14.00\" text-anchor=\"middle\" x=\"157.5\" y=\"-598.8\">lstm</text>\n<polyline fill=\"none\" points=\"178,-584.5 178,-620.5 \" stroke=\"#000000\"/>\n<text fill=\"#000000\" font-family=\"Times,serif\" font-size=\"14.00\" text-anchor=\"middle\" x=\"206\" y=\"-598.8\">LSTM</text>\n</g>\n<!-- 139938444462032&#45;&gt;139938446998288 -->\n<g class=\"edge\" id=\"edge11\">\n<title>139938444462032-&gt;139938446998288</title>\n<path d=\"M137.3202,-657.4551C145.0126,-648.6809 154.3978,-637.9759 162.8344,-628.353\" fill=\"none\" stroke=\"#000000\"/>\n<polygon fill=\"#000000\" points=\"165.6794,-630.4171 169.64,-620.5904 160.4158,-625.8024 165.6794,-630.4171\" stroke=\"#000000\"/>\n</g>\n<!-- 139938444460752 -->\n<g class=\"node\" id=\"node17\">\n<title>139938444460752</title>\n<polygon fill=\"none\" points=\"330,-511.5 330,-547.5 431,-547.5 431,-511.5 330,-511.5\" stroke=\"#000000\"/>\n<text fill=\"#000000\" font-family=\"Times,serif\" font-size=\"14.00\" text-anchor=\"middle\" x=\"354.5\" y=\"-525.8\">dense</text>\n<polyline fill=\"none\" points=\"379,-511.5 379,-547.5 \" stroke=\"#000000\"/>\n<text fill=\"#000000\" font-family=\"Times,serif\" font-size=\"14.00\" text-anchor=\"middle\" x=\"405\" y=\"-525.8\">Dense</text>\n</g>\n<!-- 139938446998992&#45;&gt;139938444460752 -->\n<g class=\"edge\" id=\"edge12\">\n<title>139938446998992-&gt;139938444460752</title>\n<path d=\"M362.4326,-584.4551C365.1442,-576.2074 368.4166,-566.2536 371.4273,-557.0962\" fill=\"none\" stroke=\"#000000\"/>\n<polygon fill=\"#000000\" points=\"374.7541,-558.1833 374.5525,-547.5904 368.1043,-555.997 374.7541,-558.1833\" stroke=\"#000000\"/>\n</g>\n<!-- 139938451080976 -->\n<g class=\"node\" id=\"node18\">\n<title>139938451080976</title>\n<polygon fill=\"none\" points=\"476.5,-511.5 476.5,-547.5 592.5,-547.5 592.5,-511.5 476.5,-511.5\" stroke=\"#000000\"/>\n<text fill=\"#000000\" font-family=\"Times,serif\" font-size=\"14.00\" text-anchor=\"middle\" x=\"508.5\" y=\"-525.8\">dense_1</text>\n<polyline fill=\"none\" points=\"540.5,-511.5 540.5,-547.5 \" stroke=\"#000000\"/>\n<text fill=\"#000000\" font-family=\"Times,serif\" font-size=\"14.00\" text-anchor=\"middle\" x=\"566.5\" y=\"-525.8\">Dense</text>\n</g>\n<!-- 139938446999312&#45;&gt;139938451080976 -->\n<g class=\"edge\" id=\"edge13\">\n<title>139938446999312-&gt;139938451080976</title>\n<path d=\"M534.5,-584.4551C534.5,-576.3828 534.5,-566.6764 534.5,-557.6817\" fill=\"none\" stroke=\"#000000\"/>\n<polygon fill=\"#000000\" points=\"538.0001,-557.5903 534.5,-547.5904 531.0001,-557.5904 538.0001,-557.5903\" stroke=\"#000000\"/>\n</g>\n<!-- 139938451112272 -->\n<g class=\"node\" id=\"node19\">\n<title>139938451112272</title>\n<polygon fill=\"none\" points=\"627.5,-511.5 627.5,-547.5 743.5,-547.5 743.5,-511.5 627.5,-511.5\" stroke=\"#000000\"/>\n<text fill=\"#000000\" font-family=\"Times,serif\" font-size=\"14.00\" text-anchor=\"middle\" x=\"659.5\" y=\"-525.8\">dense_2</text>\n<polyline fill=\"none\" points=\"691.5,-511.5 691.5,-547.5 \" stroke=\"#000000\"/>\n<text fill=\"#000000\" font-family=\"Times,serif\" font-size=\"14.00\" text-anchor=\"middle\" x=\"717.5\" y=\"-525.8\">Dense</text>\n</g>\n<!-- 139938451143952&#45;&gt;139938451112272 -->\n<g class=\"edge\" id=\"edge14\">\n<title>139938451143952-&gt;139938451112272</title>\n<path d=\"M699.0506,-584.4551C697.0385,-576.2951 694.6147,-566.4652 692.3767,-557.3887\" fill=\"none\" stroke=\"#000000\"/>\n<polygon fill=\"#000000\" points=\"695.753,-556.4616 689.9606,-547.5904 688.9565,-558.1375 695.753,-556.4616\" stroke=\"#000000\"/>\n</g>\n<!-- 139938451201232 -->\n<g class=\"node\" id=\"node20\">\n<title>139938451201232</title>\n<polygon fill=\"none\" points=\"795.5,-511.5 795.5,-547.5 911.5,-547.5 911.5,-511.5 795.5,-511.5\" stroke=\"#000000\"/>\n<text fill=\"#000000\" font-family=\"Times,serif\" font-size=\"14.00\" text-anchor=\"middle\" x=\"827.5\" y=\"-525.8\">dense_3</text>\n<polyline fill=\"none\" points=\"859.5,-511.5 859.5,-547.5 \" stroke=\"#000000\"/>\n<text fill=\"#000000\" font-family=\"Times,serif\" font-size=\"14.00\" text-anchor=\"middle\" x=\"885.5\" y=\"-525.8\">Dense</text>\n</g>\n<!-- 139938451214736&#45;&gt;139938451201232 -->\n<g class=\"edge\" id=\"edge15\">\n<title>139938451214736-&gt;139938451201232</title>\n<path d=\"M879.0955,-584.4551C875.2132,-576.1196 870.5194,-566.0416 866.217,-556.8042\" fill=\"none\" stroke=\"#000000\"/>\n<polygon fill=\"#000000\" points=\"869.3205,-555.1776 861.9256,-547.5904 862.975,-558.1331 869.3205,-555.1776\" stroke=\"#000000\"/>\n</g>\n<!-- 139938447310928 -->\n<g class=\"node\" id=\"node21\">\n<title>139938447310928</title>\n<polygon fill=\"none\" points=\"141.5,-511.5 141.5,-547.5 257.5,-547.5 257.5,-511.5 141.5,-511.5\" stroke=\"#000000\"/>\n<text fill=\"#000000\" font-family=\"Times,serif\" font-size=\"14.00\" text-anchor=\"middle\" x=\"173.5\" y=\"-525.8\">dense_4</text>\n<polyline fill=\"none\" points=\"205.5,-511.5 205.5,-547.5 \" stroke=\"#000000\"/>\n<text fill=\"#000000\" font-family=\"Times,serif\" font-size=\"14.00\" text-anchor=\"middle\" x=\"231.5\" y=\"-525.8\">Dense</text>\n</g>\n<!-- 139938446998288&#45;&gt;139938447310928 -->\n<g class=\"edge\" id=\"edge16\">\n<title>139938446998288-&gt;139938447310928</title>\n<path d=\"M188.9607,-584.4551C190.5088,-576.3828 192.3703,-566.6764 194.0953,-557.6817\" fill=\"none\" stroke=\"#000000\"/>\n<polygon fill=\"#000000\" points=\"197.5844,-558.0706 196.0306,-547.5904 190.7097,-556.7521 197.5844,-558.0706\" stroke=\"#000000\"/>\n</g>\n<!-- 139938452836112 -->\n<g class=\"node\" id=\"node22\">\n<title>139938452836112</title>\n<polygon fill=\"none\" points=\"450,-438.5 450,-474.5 619,-474.5 619,-438.5 450,-438.5\" stroke=\"#000000\"/>\n<text fill=\"#000000\" font-family=\"Times,serif\" font-size=\"14.00\" text-anchor=\"middle\" x=\"491.5\" y=\"-452.8\">concatenate</text>\n<polyline fill=\"none\" points=\"533,-438.5 533,-474.5 \" stroke=\"#000000\"/>\n<text fill=\"#000000\" font-family=\"Times,serif\" font-size=\"14.00\" text-anchor=\"middle\" x=\"576\" y=\"-452.8\">Concatenate</text>\n</g>\n<!-- 139938444460752&#45;&gt;139938452836112 -->\n<g class=\"edge\" id=\"edge17\">\n<title>139938444460752-&gt;139938452836112</title>\n<path d=\"M418.5674,-511.4551C439.2985,-501.628 465.1389,-489.3789 487.1594,-478.9407\" fill=\"none\" stroke=\"#000000\"/>\n<polygon fill=\"#000000\" points=\"488.7998,-482.0365 496.3368,-474.5904 485.8014,-475.7111 488.7998,-482.0365\" stroke=\"#000000\"/>\n</g>\n<!-- 139938451080976&#45;&gt;139938452836112 -->\n<g class=\"edge\" id=\"edge18\">\n<title>139938451080976-&gt;139938452836112</title>\n<path d=\"M534.5,-511.4551C534.5,-503.3828 534.5,-493.6764 534.5,-484.6817\" fill=\"none\" stroke=\"#000000\"/>\n<polygon fill=\"#000000\" points=\"538.0001,-484.5903 534.5,-474.5904 531.0001,-484.5904 538.0001,-484.5903\" stroke=\"#000000\"/>\n</g>\n<!-- 139938451112272&#45;&gt;139938452836112 -->\n<g class=\"edge\" id=\"edge19\">\n<title>139938451112272-&gt;139938452836112</title>\n<path d=\"M648.1741,-511.4551C627.9377,-501.6719 602.736,-489.4883 581.2078,-479.0806\" fill=\"none\" stroke=\"#000000\"/>\n<polygon fill=\"#000000\" points=\"582.4463,-475.7918 571.9198,-474.5904 579.3995,-482.094 582.4463,-475.7918\" stroke=\"#000000\"/>\n</g>\n<!-- 139938451201232&#45;&gt;139938452836112 -->\n<g class=\"edge\" id=\"edge20\">\n<title>139938451201232-&gt;139938452836112</title>\n<path d=\"M795.3614,-516.1956C747.2151,-505.1777 678.029,-489.3452 623.0051,-476.7535\" fill=\"none\" stroke=\"#000000\"/>\n<polygon fill=\"#000000\" points=\"623.7836,-473.3413 613.2548,-474.5223 622.222,-480.1649 623.7836,-473.3413\" stroke=\"#000000\"/>\n</g>\n<!-- 139938447310928&#45;&gt;139938452836112 -->\n<g class=\"edge\" id=\"edge21\">\n<title>139938447310928-&gt;139938452836112</title>\n<path d=\"M257.8525,-516.7844C308.5342,-505.7403 382.8296,-489.5506 441.6689,-476.7289\" fill=\"none\" stroke=\"#000000\"/>\n<polygon fill=\"#000000\" points=\"442.6924,-480.0881 451.7179,-474.5391 441.2019,-473.2486 442.6924,-480.0881\" stroke=\"#000000\"/>\n</g>\n<!-- 139938451235408 -->\n<g class=\"node\" id=\"node23\">\n<title>139938451235408</title>\n<polygon fill=\"none\" points=\"476.5,-365.5 476.5,-401.5 592.5,-401.5 592.5,-365.5 476.5,-365.5\" stroke=\"#000000\"/>\n<text fill=\"#000000\" font-family=\"Times,serif\" font-size=\"14.00\" text-anchor=\"middle\" x=\"508.5\" y=\"-379.8\">dense_5</text>\n<polyline fill=\"none\" points=\"540.5,-365.5 540.5,-401.5 \" stroke=\"#000000\"/>\n<text fill=\"#000000\" font-family=\"Times,serif\" font-size=\"14.00\" text-anchor=\"middle\" x=\"566.5\" y=\"-379.8\">Dense</text>\n</g>\n<!-- 139938452836112&#45;&gt;139938451235408 -->\n<g class=\"edge\" id=\"edge22\">\n<title>139938452836112-&gt;139938451235408</title>\n<path d=\"M534.5,-438.4551C534.5,-430.3828 534.5,-420.6764 534.5,-411.6817\" fill=\"none\" stroke=\"#000000\"/>\n<polygon fill=\"#000000\" points=\"538.0001,-411.5903 534.5,-401.5904 531.0001,-411.5904 538.0001,-411.5903\" stroke=\"#000000\"/>\n</g>\n<!-- 139938451969040 -->\n<g class=\"node\" id=\"node24\">\n<title>139938451969040</title>\n<polygon fill=\"none\" points=\"402,-292.5 402,-328.5 667,-328.5 667,-292.5 402,-292.5\" stroke=\"#000000\"/>\n<text fill=\"#000000\" font-family=\"Times,serif\" font-size=\"14.00\" text-anchor=\"middle\" x=\"469\" y=\"-306.8\">batch_normalization</text>\n<polyline fill=\"none\" points=\"536,-292.5 536,-328.5 \" stroke=\"#000000\"/>\n<text fill=\"#000000\" font-family=\"Times,serif\" font-size=\"14.00\" text-anchor=\"middle\" x=\"601.5\" y=\"-306.8\">BatchNormalization</text>\n</g>\n<!-- 139938451235408&#45;&gt;139938451969040 -->\n<g class=\"edge\" id=\"edge23\">\n<title>139938451235408-&gt;139938451969040</title>\n<path d=\"M534.5,-365.4551C534.5,-357.3828 534.5,-347.6764 534.5,-338.6817\" fill=\"none\" stroke=\"#000000\"/>\n<polygon fill=\"#000000\" points=\"538.0001,-338.5903 534.5,-328.5904 531.0001,-338.5904 538.0001,-338.5903\" stroke=\"#000000\"/>\n</g>\n<!-- 139938451990864 -->\n<g class=\"node\" id=\"node25\">\n<title>139938451990864</title>\n<polygon fill=\"none\" points=\"463.5,-219.5 463.5,-255.5 605.5,-255.5 605.5,-219.5 463.5,-219.5\" stroke=\"#000000\"/>\n<text fill=\"#000000\" font-family=\"Times,serif\" font-size=\"14.00\" text-anchor=\"middle\" x=\"502\" y=\"-233.8\">dropout_1</text>\n<polyline fill=\"none\" points=\"540.5,-219.5 540.5,-255.5 \" stroke=\"#000000\"/>\n<text fill=\"#000000\" font-family=\"Times,serif\" font-size=\"14.00\" text-anchor=\"middle\" x=\"573\" y=\"-233.8\">Dropout</text>\n</g>\n<!-- 139938451969040&#45;&gt;139938451990864 -->\n<g class=\"edge\" id=\"edge24\">\n<title>139938451969040-&gt;139938451990864</title>\n<path d=\"M534.5,-292.4551C534.5,-284.3828 534.5,-274.6764 534.5,-265.6817\" fill=\"none\" stroke=\"#000000\"/>\n<polygon fill=\"#000000\" points=\"538.0001,-265.5903 534.5,-255.5904 531.0001,-265.5904 538.0001,-265.5903\" stroke=\"#000000\"/>\n</g>\n<!-- 139938451969936 -->\n<g class=\"node\" id=\"node26\">\n<title>139938451969936</title>\n<polygon fill=\"none\" points=\"476.5,-146.5 476.5,-182.5 592.5,-182.5 592.5,-146.5 476.5,-146.5\" stroke=\"#000000\"/>\n<text fill=\"#000000\" font-family=\"Times,serif\" font-size=\"14.00\" text-anchor=\"middle\" x=\"508.5\" y=\"-160.8\">dense_6</text>\n<polyline fill=\"none\" points=\"540.5,-146.5 540.5,-182.5 \" stroke=\"#000000\"/>\n<text fill=\"#000000\" font-family=\"Times,serif\" font-size=\"14.00\" text-anchor=\"middle\" x=\"566.5\" y=\"-160.8\">Dense</text>\n</g>\n<!-- 139938451990864&#45;&gt;139938451969936 -->\n<g class=\"edge\" id=\"edge25\">\n<title>139938451990864-&gt;139938451969936</title>\n<path d=\"M534.5,-219.4551C534.5,-211.3828 534.5,-201.6764 534.5,-192.6817\" fill=\"none\" stroke=\"#000000\"/>\n<polygon fill=\"#000000\" points=\"538.0001,-192.5903 534.5,-182.5904 531.0001,-192.5904 538.0001,-192.5903\" stroke=\"#000000\"/>\n</g>\n<!-- 139938451810320 -->\n<g class=\"node\" id=\"node27\">\n<title>139938451810320</title>\n<polygon fill=\"none\" points=\"463.5,-73.5 463.5,-109.5 605.5,-109.5 605.5,-73.5 463.5,-73.5\" stroke=\"#000000\"/>\n<text fill=\"#000000\" font-family=\"Times,serif\" font-size=\"14.00\" text-anchor=\"middle\" x=\"502\" y=\"-87.8\">dropout_2</text>\n<polyline fill=\"none\" points=\"540.5,-73.5 540.5,-109.5 \" stroke=\"#000000\"/>\n<text fill=\"#000000\" font-family=\"Times,serif\" font-size=\"14.00\" text-anchor=\"middle\" x=\"573\" y=\"-87.8\">Dropout</text>\n</g>\n<!-- 139938451969936&#45;&gt;139938451810320 -->\n<g class=\"edge\" id=\"edge26\">\n<title>139938451969936-&gt;139938451810320</title>\n<path d=\"M534.5,-146.4551C534.5,-138.3828 534.5,-128.6764 534.5,-119.6817\" fill=\"none\" stroke=\"#000000\"/>\n<polygon fill=\"#000000\" points=\"538.0001,-119.5903 534.5,-109.5904 531.0001,-119.5904 538.0001,-119.5903\" stroke=\"#000000\"/>\n</g>\n<!-- 139938451547472 -->\n<g class=\"node\" id=\"node28\">\n<title>139938451547472</title>\n<polygon fill=\"none\" points=\"476.5,-.5 476.5,-36.5 592.5,-36.5 592.5,-.5 476.5,-.5\" stroke=\"#000000\"/>\n<text fill=\"#000000\" font-family=\"Times,serif\" font-size=\"14.00\" text-anchor=\"middle\" x=\"508.5\" y=\"-14.8\">dense_7</text>\n<polyline fill=\"none\" points=\"540.5,-.5 540.5,-36.5 \" stroke=\"#000000\"/>\n<text fill=\"#000000\" font-family=\"Times,serif\" font-size=\"14.00\" text-anchor=\"middle\" x=\"566.5\" y=\"-14.8\">Dense</text>\n</g>\n<!-- 139938451810320&#45;&gt;139938451547472 -->\n<g class=\"edge\" id=\"edge27\">\n<title>139938451810320-&gt;139938451547472</title>\n<path d=\"M534.5,-73.4551C534.5,-65.3828 534.5,-55.6764 534.5,-46.6817\" fill=\"none\" stroke=\"#000000\"/>\n<polygon fill=\"#000000\" points=\"538.0001,-46.5903 534.5,-36.5904 531.0001,-46.5904 538.0001,-46.5903\" stroke=\"#000000\"/>\n</g>\n</g>\n</svg>"
          },
          "metadata": {},
          "execution_count": 21
        }
      ]
    },
    {
      "cell_type": "code",
      "source": [
        "from keras.callbacks import EarlyStopping\n",
        "\n",
        "callback=EarlyStopping(\n",
        "    monitor='val_accuracy', min_delta=0, patience=10, verbose=1, mode='auto',\n",
        "    baseline=None, restore_best_weights=True)\n",
        "\n",
        "# from sklearn.utils import compute_class_weight\n",
        "# y_integers = np.argmax(y_train, axis=1)\n",
        "# class_weights = compute_class_weight(class_weight = 'balanced', classes = np.unique(y_train),y = y_train)\n",
        "# class_weights = dict(zip(np.unique(y_train), class_weights))\n",
        "\n",
        "history = model.fit(x=[train_gen,train_se,train_st,train_so,train_sy], y=dummy_y_train, \n",
        "                    batch_size=250,\n",
        "                    epochs=30, \n",
        "                    validation_data=([test_gen,test_se,test_st,test_so,test_sy], dummy_y_test),\n",
        "                    verbose=1,\n",
        "                    callbacks=[callback]\n",
        "                  \n",
        ")\n",
        "\n",
        "\n",
        "loss, accuracy  = model.evaluate([train_gen,train_se,train_st,train_so,train_sy], dummy_y_train, verbose=False)\n",
        "print(\"Training Accuracy: {:.4f}\".format(accuracy))\n",
        "loss, accuracy = model.evaluate([test_gen,test_se,test_st,test_so,test_sy], dummy_y_test, verbose=False)\n",
        "print(\"Testing Accuracy:  {:.4f}\".format(accuracy))\n",
        "plot_history(history)"
      ],
      "metadata": {
        "id": "8kQkHFThpBZQ",
        "colab": {
          "base_uri": "https://localhost:8080/",
          "height": 1000
        },
        "outputId": "baa6860d-2e99-4a24-d79c-36fdb5507dd5"
      },
      "execution_count": null,
      "outputs": [
        {
          "output_type": "stream",
          "name": "stdout",
          "text": [
            "Epoch 1/30\n",
            "10/10 [==============================] - 15s 675ms/step - loss: 1.9379 - accuracy: 0.1632 - val_loss: 1.9541 - val_accuracy: 0.0968\n",
            "Epoch 2/30\n",
            "10/10 [==============================] - 3s 265ms/step - loss: 1.9172 - accuracy: 0.1937 - val_loss: 1.9567 - val_accuracy: 0.0968\n",
            "Epoch 3/30\n",
            "10/10 [==============================] - 3s 263ms/step - loss: 1.8907 - accuracy: 0.2289 - val_loss: 1.9663 - val_accuracy: 0.0968\n",
            "Epoch 4/30\n",
            "10/10 [==============================] - 3s 261ms/step - loss: 1.8626 - accuracy: 0.2414 - val_loss: 1.9859 - val_accuracy: 0.0968\n",
            "Epoch 5/30\n",
            "10/10 [==============================] - 3s 261ms/step - loss: 1.8368 - accuracy: 0.2751 - val_loss: 2.0096 - val_accuracy: 0.0968\n",
            "Epoch 6/30\n",
            "10/10 [==============================] - 3s 261ms/step - loss: 1.8033 - accuracy: 0.3244 - val_loss: 2.0256 - val_accuracy: 0.1221\n",
            "Epoch 7/30\n",
            "10/10 [==============================] - 3s 263ms/step - loss: 1.7744 - accuracy: 0.3392 - val_loss: 2.0665 - val_accuracy: 0.1221\n",
            "Epoch 8/30\n",
            "10/10 [==============================] - 3s 262ms/step - loss: 1.7309 - accuracy: 0.3324 - val_loss: 2.0743 - val_accuracy: 0.1221\n",
            "Epoch 9/30\n",
            "10/10 [==============================] - 3s 259ms/step - loss: 1.6843 - accuracy: 0.3689 - val_loss: 2.0835 - val_accuracy: 0.1221\n",
            "Epoch 10/30\n",
            "10/10 [==============================] - 3s 260ms/step - loss: 1.6541 - accuracy: 0.3633 - val_loss: 2.1755 - val_accuracy: 0.1221\n",
            "Epoch 11/30\n",
            "10/10 [==============================] - 3s 263ms/step - loss: 1.6109 - accuracy: 0.4150 - val_loss: 2.2745 - val_accuracy: 0.1221\n",
            "Epoch 12/30\n",
            "10/10 [==============================] - 3s 263ms/step - loss: 1.5795 - accuracy: 0.4254 - val_loss: 2.5238 - val_accuracy: 0.1221\n",
            "Epoch 13/30\n",
            "10/10 [==============================] - 3s 263ms/step - loss: 1.5442 - accuracy: 0.4370 - val_loss: 2.7185 - val_accuracy: 0.1221\n",
            "Epoch 14/30\n",
            "10/10 [==============================] - 3s 262ms/step - loss: 1.5027 - accuracy: 0.4503 - val_loss: 2.9581 - val_accuracy: 0.1221\n",
            "Epoch 15/30\n",
            "10/10 [==============================] - 3s 263ms/step - loss: 1.4788 - accuracy: 0.4627 - val_loss: 3.1846 - val_accuracy: 0.1221\n",
            "Epoch 16/30\n",
            "10/10 [==============================] - ETA: 0s - loss: 1.4250 - accuracy: 0.4812Restoring model weights from the end of the best epoch: 6.\n",
            "10/10 [==============================] - 3s 263ms/step - loss: 1.4250 - accuracy: 0.4812 - val_loss: 3.4585 - val_accuracy: 0.1221\n",
            "Epoch 16: early stopping\n",
            "Training Accuracy: 0.1435\n",
            "Testing Accuracy:  0.1221\n"
          ]
        },
        {
          "output_type": "display_data",
          "data": {
            "text/plain": [
              "<Figure size 864x360 with 2 Axes>"
            ],
            "image/png": "[encoded data removed]"
          },
          "metadata": {
            "needs_background": "light"
          }
        }
      ]
    },
    {
      "cell_type": "code",
      "source": [
        "# now we wanted to predict\n",
        "def get_pre(name,sypnopsis,genres,season,studio,source,gen_mapper,se_mapper,st_mapper,so_mapper,Y_mapper,model,maxlen):\n",
        "  \n",
        "  from numpy import zeros\n",
        "  from numpy import asarray\n",
        "  from keras.utils import np_utils\n",
        "\n",
        "  ## Name abandon\n",
        "\n",
        "##------------encode genres-------#\n",
        "  def one_hot_encode(genres, mapping):\n",
        "  # create empty vector\n",
        "    encoding = zeros(len(mapping)+1, dtype='uint8')\n",
        "    for genre in genres.split(','):\n",
        "      try:\n",
        "        G = mapping[genre.strip()]\n",
        "        encoding[G] = 1\n",
        "      except:\n",
        "        encoding[0] = 1\n",
        "\n",
        "    return encoding\n",
        "      \n",
        "  train=[]\n",
        "  train.append(one_hot_encode(genres,gen_mapper))\n",
        "\n",
        "  gen_pred = asarray(train, dtype='uint8')\n",
        "\n",
        "##----------encode season-----------------##\n",
        "\n",
        "  train=[]\n",
        "  train.append(one_hot_encode(season,se_mapper))\n",
        "\n",
        "  se_pred = asarray(train, dtype='uint8')\n",
        "\n",
        "\n",
        "##-----------encode studio-----------------##\n",
        "\n",
        "  train=[]\n",
        "  train.append(one_hot_encode(studio,st_mapper))\n",
        "\n",
        "  st_pred = asarray(train, dtype='uint8')\n",
        "\n",
        "##--------encode source--------------------##\n",
        "  train=[]\n",
        "  train.append(one_hot_encode(source,so_mapper))\n",
        "\n",
        "  so_pred = asarray(train, dtype='uint8')\n",
        "\n",
        "##--------- tokenize synopsis--------##\n",
        "  from keras.preprocessing.text import Tokenizer\n",
        "  from keras.preprocessing.sequence import pad_sequences\n",
        "  sypnopsis = rm_stop(sypnopsis)\n",
        "  sypnopsis = lem(sypnopsis)\n",
        "\n",
        "\n",
        "  tokenizer = Tokenizer(num_words=2000)\n",
        "\n",
        "  pred = []\n",
        "  pred.append(sypnopsis)\n",
        "  tokenizer.fit_on_texts(pred)\n",
        "  #pred.append(' ')\n",
        "  pred = tokenizer.texts_to_sequences(pred)\n",
        "  pred = pad_sequences(pred, padding='post', maxlen=maxlen)\n",
        "  sypnopsis = asarray(pred, dtype='uint8')\n",
        "  sypnopsis = asarray(sypnopsis,dtype ='uint8')\n",
        "\n",
        "##------ predcit---------###\n",
        "  predictions = model.predict(x=[gen_pred,se_pred,st_pred,so_pred,sypnopsis])\n",
        "  pred1 = predictions.tolist()\n",
        "  pred2 = pred1[0]\n",
        "  max_value = max(pred2)\n",
        "  max_index = pred2.index(max_value)\n",
        "\n",
        "  return max_index+1\n",
        "\n",
        "  "
      ],
      "metadata": {
        "id": "acLqgN2BWucO"
      },
      "execution_count": null,
      "outputs": []
    },
    {
      "cell_type": "code",
      "source": [
        "def get_input():\n",
        "  name = input('Name of anime: ')\n",
        "  sypnopsis = input('Synopsis of anime: ')\n",
        "  genres = input('Genres of anime (XX,YY)): ')\n",
        "  season= input('season anime premiered: ')\n",
        "  source= input('source of original story: ')\n",
        "  studio =input('Studios produce (XX,YY):')\n",
        "\n",
        "  return name,sypnopsis,genres,season,studio,source"
      ],
      "metadata": {
        "id": "vUuHj9VA9EVK"
      },
      "execution_count": null,
      "outputs": []
    },
    {
      "cell_type": "code",
      "source": [
        "##--------------------------------------just give some exmaple anime----------#\n",
        "a= anime_clean['Name'].tolist()\n",
        "b = anime_clean['sypnopsis'].tolist()\n",
        "c = anime_clean['Genres'].tolist()\n",
        "d = anime_clean['Studios'].tolist()\n",
        "e = anime_clean['Season'].tolist()\n",
        "f = anime_clean['Source'].tolist()"
      ],
      "metadata": {
        "id": "S6yG2rSwGGHM"
      },
      "execution_count": null,
      "outputs": []
    },
    {
      "cell_type": "code",
      "source": [
        "try:\n",
        "  try_name = 'Kaijuu Step Wandabada 2nd Season'\n",
        "  p =a.index(try_name)\n",
        "except:\n",
        "  print('Cant find anime in dataset')"
      ],
      "metadata": {
        "id": "x-MM8EG-sA1R"
      },
      "execution_count": null,
      "outputs": []
    },
    {
      "cell_type": "code",
      "source": [
        "print('Name: '+str(a[p]))\n",
        "print('Sypnopsis= '+str(b[p]))\n",
        "print('Genres: '+str(c[p]))\n",
        "print('Season: '+str(e[p]))\n",
        "print('Source: '+str(f[p]))\n",
        "print('Studios: '+str(d[p]))"
      ],
      "metadata": {
        "id": "TZmhXLQdGTkM",
        "colab": {
          "base_uri": "https://localhost:8080/"
        },
        "outputId": "ff46b7d3-9aa0-4976-cb0a-6788e493aef9"
      },
      "execution_count": null,
      "outputs": [
        {
          "output_type": "stream",
          "name": "stdout",
          "text": [
            "Name: Kaijuu Step Wandabada 2nd Season\n",
            "Sypnopsis= Second season of Kaijuu Step Wandabada .\n",
            "Genres: Comedy, Kids\n",
            "Season: Fall\n",
            "Source: Picture book\n",
            "Studios: Usagi Ou\n"
          ]
        }
      ]
    },
    {
      "cell_type": "code",
      "source": [
        "## run this cell repeatedly to get prediction\n",
        "name,sypnopsis,genres,season,studio,source = get_input()"
      ],
      "metadata": {
        "id": "ceFCw0IUFkFs",
        "colab": {
          "base_uri": "https://localhost:8080/"
        },
        "outputId": "0fab5264-3758-424d-8f88-079494d2dc17"
      },
      "execution_count": null,
      "outputs": [
        {
          "name": "stdout",
          "output_type": "stream",
          "text": [
            "Name of anime: Spy X Family\n",
            "Synopsis of anime: For the agent known as \"Twilight,\" no order is too tall if it is for the sake of peace. Operating as Westalis' master spy, Twilight works tirelessly to prevent extremists from sparking a war with neighboring country Ostania. For his latest mission, he must investigate Ostanian politician Donovan Desmond by infiltrating his son's school: the prestigious Eden Academy. Thus, the agent faces the most difficult task of his career: get married, have a child, and play family.  Twilight, or \"Loid Forger,\" quickly adopts the unassuming orphan Anya to play the role of a six-year-old daughter and prospective Eden Academy student. For a wife, he comes across Yor Briar, an absent-minded office worker who needs a pretend partner of her own to impress her friends. However, Loid is not the only one with a hidden nature. Yor moonlights as the lethal assassin \"Thorn Princess.\" For her, marrying Loid creates the perfect cover. Meanwhile, Anya is not the ordinary girl she appears to be; she is an esper, the product of secret experiments that allow her to read minds. Although she uncovers their true identities, Anya is thrilled that her new parents are cool secret agents! She would never tell them, of course. That would ruin the fun.  Under the guise of \"The Forgers,\" the spy, the assassin, and the esper must act as a family while carrying out their own agendas. Although these liars and misfits are only playing parts, they soon find that family is about far more than blood relations.\n",
            "Genres of anime (XX,YY)): Action, Comedy\n",
            "season anime premiered: Spring\n",
            "source of original story: Manga\n",
            "Studios produce (XX,YY):Wit Studio, CloverWorks\n"
          ]
        }
      ]
    },
    {
      "cell_type": "code",
      "source": [
        "pred= get_pre(name,sypnopsis,genres,season,studio,source,gen_mapper,se_mapper,st_mapper,so_mapper,Y_mapper,model,maxlen)\n",
        "print(pred)"
      ],
      "metadata": {
        "id": "wHl-GggaiJiO",
        "colab": {
          "base_uri": "https://localhost:8080/"
        },
        "outputId": "d00f99c9-6168-4cb9-f04d-a864beaf941a"
      },
      "execution_count": null,
      "outputs": [
        {
          "output_type": "stream",
          "name": "stdout",
          "text": [
            "4\n"
          ]
        }
      ]
    }
  ]
}